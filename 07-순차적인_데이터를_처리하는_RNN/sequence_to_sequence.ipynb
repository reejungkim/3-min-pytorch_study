{
  "nbformat": 4,
  "nbformat_minor": 0,
  "metadata": {
    "kernelspec": {
      "display_name": "Python 3",
      "language": "python",
      "name": "python3"
    },
    "language_info": {
      "codemirror_mode": {
        "name": "ipython",
        "version": 3
      },
      "file_extension": ".py",
      "mimetype": "text/x-python",
      "name": "python",
      "nbconvert_exporter": "python",
      "pygments_lexer": "ipython3",
      "version": "3.7.0"
    },
    "colab": {
      "name": "sequence_to_sequence.ipynb",
      "provenance": []
    },
    "accelerator": "GPU"
  },
  "cells": [
    {
      "cell_type": "markdown",
      "metadata": {
        "id": "bKlwoMlgrOIU"
      },
      "source": [
        "# Seq2Seq 기계 번역\n",
        "\n",
        "이번 프로젝트에선 임의로 Seq2Seq 모델을 아주 간단화 시켰습니다.\n",
        "한 언어로 된 문장을 다른 언어로 된 문장으로 번역하는 덩치가 큰 모델이 아닌\n",
        "영어 알파벳 문자열(\"hello\")을 스페인어 알파벳 문자열(\"hola\")로 번역하는 Mini Seq2Seq 모델을 같이 구현해 보겠습니다."
      ]
    },
    {
      "cell_type": "code",
      "metadata": {
        "id": "5jeePgXPrOIW"
      },
      "source": [
        "import torch\n",
        "import torch.nn as nn\n",
        "import torch.nn.functional as F\n",
        "import random\n",
        "import matplotlib.pyplot as plt #시각화"
      ],
      "execution_count": 1,
      "outputs": []
    },
    {
      "cell_type": "code",
      "metadata": {
        "colab": {
          "base_uri": "https://localhost:8080/"
        },
        "id": "_H5G_N4urOIX",
        "outputId": "762b8fe7-5e72-4482-9a7a-4ddf3245db93"
      },
      "source": [
        "# 기본적으로는 문장을 넣기 때문에 Word Embedding을 진행하지만,\n",
        "# 이 예제에서는 철자 하나씩에 대한 Character Embedding을 수행\n",
        "vocab_size = 256  # 영문만 다루기 때문에, 영문에 대한 총 아스키 코드 개수\n",
        "x_ = list(map(ord, \"hello\"))  # 아스키 코드 리스트로 변환\n",
        "y_ = list(map(ord, \"hola\"))   # 아스키 코드 리스트로 변환\n",
        "# x : 원문 / y : 번역문\n",
        "print(\"hello -> \", x_)\n",
        "print(\"hola  -> \", y_)"
      ],
      "execution_count": 2,
      "outputs": [
        {
          "output_type": "stream",
          "text": [
            "hello ->  [104, 101, 108, 108, 111]\n",
            "hola  ->  [104, 111, 108, 97]\n"
          ],
          "name": "stdout"
        }
      ]
    },
    {
      "cell_type": "code",
      "metadata": {
        "id": "qgsCKOBYrOIY"
      },
      "source": [
        "# 모델 입력을 위해 Tensor형태로 변환\n",
        "x = torch.LongTensor(x_)\n",
        "y = torch.LongTensor(y_)"
      ],
      "execution_count": 3,
      "outputs": []
    },
    {
      "cell_type": "code",
      "metadata": {
        "id": "wkXzT62BrOIY"
      },
      "source": [
        "class Seq2Seq(nn.Module):\n",
        "    def __init__(self, vocab_size, hidden_size):\n",
        "        super(Seq2Seq, self).__init__()\n",
        "        self.n_layers = 1 # 간단하니깐 \n",
        "        # hidden_size : 이번 예제에서는 별도의 값이 아닌, 임베딩된 토큰의 차원값과 동일히 정의\n",
        "        self.hidden_size = hidden_size\n",
        "        self.embedding = nn.Embedding(vocab_size, hidden_size)\n",
        "        self.encoder = nn.GRU(hidden_size, hidden_size)# 인코더 정의\n",
        "        self.decoder = nn.GRU(hidden_size, hidden_size)# 디코더 정의\n",
        "        self.project = nn.Linear(hidden_size, vocab_size)# 디코더가 번역문의 다음 토큰을 예상하는 Linear layer 정의\n",
        "\n",
        "    def forward(self, inputs, targets):\n",
        "        # 인코더에 들어갈 입력 임베딩\n",
        "        initial_state = self._init_state()\n",
        "        embedding = self.embedding(inputs).unsqueeze(1)\n",
        "        # embedding 형태: [seq_len, batch_size, embedding_size]\n",
        "        \n",
        "        # 인코더 (Encoder)\n",
        "        encoder_output, encoder_state = self.encoder(embedding, initial_state)\n",
        "        # encoder_output = [seq_len, batch_size, hidden_size]\n",
        "        # encoder_state : 인코더의 context vector [n_layers, seq_len, hidden_size]\n",
        "\n",
        "        # 디코더에 들어갈 입력을 인코더의 context vector로 지정\n",
        "        decoder_state = encoder_state\n",
        "        decoder_input = torch.LongTensor([0])# 문장의 시작을 위해서 NULL을 의미하는 [0]으로 설정\n",
        "        \n",
        "        # 디코더 (Decoder)\n",
        "        outputs = []\n",
        "        \n",
        "        for i in range(targets.size()[0]):\n",
        "            decoder_input = self.embedding(decoder_input).unsqueeze(1)#임베딩 및 사이즈 맞추기 위해서 unsqueeze\n",
        "\n",
        "            # decoder 입력 : 초기 문장 시작(NULL), Encoder의 context vector\n",
        "            decoder_output, decoder_state = self.decoder(decoder_input, decoder_state)\n",
        "\n",
        "            # 디코더의 출력값으로 다음 글자 예측\n",
        "            projection = self.project(decoder_output)\n",
        "            outputs.append(projection)\n",
        "            \n",
        "            # 티처 포싱(Teacher Forcing) 사용\n",
        "            # 디코더 학습 시 실제 번역문의 토큰을 디코더의 전 출력값 대신 입력으로 사용\n",
        "            decoder_input = torch.LongTensor([targets[i]])\n",
        "\n",
        "        # output : 모든 토큰에 대한 결괏값들의 배열\n",
        "        outputs = torch.stack(outputs).squeeze()\n",
        "        return outputs\n",
        "    \n",
        "    def _init_state(self, batch_size=1):\n",
        "        weight = next(self.parameters()).data\n",
        "        return weight.new(self.n_layers, batch_size, self.hidden_size).zero_()"
      ],
      "execution_count": 4,
      "outputs": []
    },
    {
      "cell_type": "code",
      "metadata": {
        "id": "uTSxCaD_rOIZ"
      },
      "source": [
        "# 모델 선언(Vocab_SIZE, hidden feature size)\n",
        "seq2seq = Seq2Seq(vocab_size, 16)"
      ],
      "execution_count": 5,
      "outputs": []
    },
    {
      "cell_type": "code",
      "metadata": {
        "id": "CQWRnzZ9rOIZ"
      },
      "source": [
        "# Loss : cross entropy loss\n",
        "# Optimizer : Adam\n",
        "criterion = nn.CrossEntropyLoss()\n",
        "optimizer = torch.optim.Adam(seq2seq.parameters(), lr=1e-3)"
      ],
      "execution_count": 6,
      "outputs": []
    },
    {
      "cell_type": "code",
      "metadata": {
        "colab": {
          "base_uri": "https://localhost:8080/"
        },
        "id": "FsrDBxzfrOIZ",
        "outputId": "e482e877-b1a3-4910-b527-2f1dad8a5424"
      },
      "source": [
        "log = []\n",
        "for i in range(1000):\n",
        "    prediction = seq2seq(x, y)\n",
        "    loss = criterion(prediction, y)\n",
        "    optimizer.zero_grad()# Optimizer 매번 계산하니깐 zero로 설정\n",
        "    \n",
        "    loss.backward()\n",
        "    optimizer.step()\n",
        "\n",
        "    loss_val = loss.data\n",
        "    log.append(loss_val)\n",
        "    # 100 에폭마다 출력\n",
        "    if i % 100 == 0:\n",
        "        print(\"\\n 반복:%d 오차: %s\" % (i, loss_val.item()))\n",
        "        _, top1 = prediction.data.topk(1, 1)\n",
        "        print([chr(c) for c in top1.squeeze().numpy().tolist()])"
      ],
      "execution_count": 7,
      "outputs": [
        {
          "output_type": "stream",
          "text": [
            "\n",
            " 반복:0 오차: 5.5274858474731445\n",
            "['\\x0c', '\\x92', 'Ê', 'C']\n",
            "\n",
            " 반복:100 오차: 1.9710159301757812\n",
            "['h', 'o', 'l', 'a']\n",
            "\n",
            " 반복:200 오차: 0.5529958605766296\n",
            "['h', 'o', 'l', 'a']\n",
            "\n",
            " 반복:300 오차: 0.2716451585292816\n",
            "['h', 'o', 'l', 'a']\n",
            "\n",
            " 반복:400 오차: 0.17074677348136902\n",
            "['h', 'o', 'l', 'a']\n",
            "\n",
            " 반복:500 오차: 0.12089813500642776\n",
            "['h', 'o', 'l', 'a']\n",
            "\n",
            " 반복:600 오차: 0.09064405411481857\n",
            "['h', 'o', 'l', 'a']\n",
            "\n",
            " 반복:700 오차: 0.0704270675778389\n",
            "['h', 'o', 'l', 'a']\n",
            "\n",
            " 반복:800 오차: 0.05638203024864197\n",
            "['h', 'o', 'l', 'a']\n",
            "\n",
            " 반복:900 오차: 0.04618227109313011\n",
            "['h', 'o', 'l', 'a']\n"
          ],
          "name": "stdout"
        }
      ]
    },
    {
      "cell_type": "code",
      "metadata": {
        "colab": {
          "base_uri": "https://localhost:8080/",
          "height": 265
        },
        "id": "24eT0CaTrOIa",
        "outputId": "17d2bb56-5853-405c-b2a1-e723b072f40a"
      },
      "source": [
        "# 학습이 지나면서 Loss가 줄어드는 것 확인 가능\n",
        "plt.plot(log)\n",
        "plt.ylabel('cross entropy loss')\n",
        "plt.show()"
      ],
      "execution_count": 8,
      "outputs": [
        {
          "output_type": "display_data",
          "data": {
            "image/png": "[encoded data removed]",
            "text/plain": [
              "<Figure size 432x288 with 1 Axes>"
            ]
          },
          "metadata": {
            "tags": [],
            "needs_background": "light"
          }
        }
      ]
    }
  ]
}