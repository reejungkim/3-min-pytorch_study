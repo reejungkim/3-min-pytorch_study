{
  "nbformat": 4,
  "nbformat_minor": 0,
  "metadata": {
    "kernelspec": {
      "display_name": "Python 3",
      "language": "python",
      "name": "python3"
    },
    "language_info": {
      "codemirror_mode": {
        "name": "ipython",
        "version": 3
      },
      "file_extension": ".py",
      "mimetype": "text/x-python",
      "name": "python",
      "nbconvert_exporter": "python",
      "pygments_lexer": "ipython3",
      "version": "3.7.0"
    },
    "colab": {
      "name": "gan.ipynb",
      "provenance": []
    },
    "accelerator": "GPU",
    "widgets": {
      "application/vnd.jupyter.widget-state+json": {
        "17dc24d8cc6e412cbf1b7b6656499364": {
          "model_module": "@jupyter-widgets/controls",
          "model_name": "HBoxModel",
          "state": {
            "_view_name": "HBoxView",
            "_dom_classes": [],
            "_model_name": "HBoxModel",
            "_view_module": "@jupyter-widgets/controls",
            "_model_module_version": "1.5.0",
            "_view_count": null,
            "_view_module_version": "1.5.0",
            "box_style": "",
            "layout": "IPY_MODEL_ca637f41fd27431fa11e57fee2706fae",
            "_model_module": "@jupyter-widgets/controls",
            "children": [
              "IPY_MODEL_a06e2c4e280847e0aebec3a18d447f42",
              "IPY_MODEL_c70d638f8d6e46e6a1bc27a1493712db"
            ]
          }
        },
        "ca637f41fd27431fa11e57fee2706fae": {
          "model_module": "@jupyter-widgets/base",
          "model_name": "LayoutModel",
          "state": {
            "_view_name": "LayoutView",
            "grid_template_rows": null,
            "right": null,
            "justify_content": null,
            "_view_module": "@jupyter-widgets/base",
            "overflow": null,
            "_model_module_version": "1.2.0",
            "_view_count": null,
            "flex_flow": null,
            "width": null,
            "min_width": null,
            "border": null,
            "align_items": null,
            "bottom": null,
            "_model_module": "@jupyter-widgets/base",
            "top": null,
            "grid_column": null,
            "overflow_y": null,
            "overflow_x": null,
            "grid_auto_flow": null,
            "grid_area": null,
            "grid_template_columns": null,
            "flex": null,
            "_model_name": "LayoutModel",
            "justify_items": null,
            "grid_row": null,
            "max_height": null,
            "align_content": null,
            "visibility": null,
            "align_self": null,
            "height": null,
            "min_height": null,
            "padding": null,
            "grid_auto_rows": null,
            "grid_gap": null,
            "max_width": null,
            "order": null,
            "_view_module_version": "1.2.0",
            "grid_template_areas": null,
            "object_position": null,
            "object_fit": null,
            "grid_auto_columns": null,
            "margin": null,
            "display": null,
            "left": null
          }
        },
        "a06e2c4e280847e0aebec3a18d447f42": {
          "model_module": "@jupyter-widgets/controls",
          "model_name": "FloatProgressModel",
          "state": {
            "_view_name": "ProgressView",
            "style": "IPY_MODEL_d9ea126bbd54420e8f084ed47ecdf150",
            "_dom_classes": [],
            "description": "",
            "_model_name": "FloatProgressModel",
            "bar_style": "success",
            "max": 26421880,
            "_view_module": "@jupyter-widgets/controls",
            "_model_module_version": "1.5.0",
            "value": 26421880,
            "_view_count": null,
            "_view_module_version": "1.5.0",
            "orientation": "horizontal",
            "min": 0,
            "description_tooltip": null,
            "_model_module": "@jupyter-widgets/controls",
            "layout": "IPY_MODEL_4903d58ee3af442193cf228bf7fd1f97"
          }
        },
        "c70d638f8d6e46e6a1bc27a1493712db": {
          "model_module": "@jupyter-widgets/controls",
          "model_name": "HTMLModel",
          "state": {
            "_view_name": "HTMLView",
            "style": "IPY_MODEL_81c4d48d8b51429aaf9c2844897f0bfb",
            "_dom_classes": [],
            "description": "",
            "_model_name": "HTMLModel",
            "placeholder": "​",
            "_view_module": "@jupyter-widgets/controls",
            "_model_module_version": "1.5.0",
            "value": " 26422272/? [1:21:43&lt;00:00, 5389.00it/s]",
            "_view_count": null,
            "_view_module_version": "1.5.0",
            "description_tooltip": null,
            "_model_module": "@jupyter-widgets/controls",
            "layout": "IPY_MODEL_a97f47b3dfaf499a92620c5f8da15a5e"
          }
        },
        "d9ea126bbd54420e8f084ed47ecdf150": {
          "model_module": "@jupyter-widgets/controls",
          "model_name": "ProgressStyleModel",
          "state": {
            "_view_name": "StyleView",
            "_model_name": "ProgressStyleModel",
            "description_width": "initial",
            "_view_module": "@jupyter-widgets/base",
            "_model_module_version": "1.5.0",
            "_view_count": null,
            "_view_module_version": "1.2.0",
            "bar_color": null,
            "_model_module": "@jupyter-widgets/controls"
          }
        },
        "4903d58ee3af442193cf228bf7fd1f97": {
          "model_module": "@jupyter-widgets/base",
          "model_name": "LayoutModel",
          "state": {
            "_view_name": "LayoutView",
            "grid_template_rows": null,
            "right": null,
            "justify_content": null,
            "_view_module": "@jupyter-widgets/base",
            "overflow": null,
            "_model_module_version": "1.2.0",
            "_view_count": null,
            "flex_flow": null,
            "width": null,
            "min_width": null,
            "border": null,
            "align_items": null,
            "bottom": null,
            "_model_module": "@jupyter-widgets/base",
            "top": null,
            "grid_column": null,
            "overflow_y": null,
            "overflow_x": null,
            "grid_auto_flow": null,
            "grid_area": null,
            "grid_template_columns": null,
            "flex": null,
            "_model_name": "LayoutModel",
            "justify_items": null,
            "grid_row": null,
            "max_height": null,
            "align_content": null,
            "visibility": null,
            "align_self": null,
            "height": null,
            "min_height": null,
            "padding": null,
            "grid_auto_rows": null,
            "grid_gap": null,
            "max_width": null,
            "order": null,
            "_view_module_version": "1.2.0",
            "grid_template_areas": null,
            "object_position": null,
            "object_fit": null,
            "grid_auto_columns": null,
            "margin": null,
            "display": null,
            "left": null
          }
        },
        "81c4d48d8b51429aaf9c2844897f0bfb": {
          "model_module": "@jupyter-widgets/controls",
          "model_name": "DescriptionStyleModel",
          "state": {
            "_view_name": "StyleView",
            "_model_name": "DescriptionStyleModel",
            "description_width": "",
            "_view_module": "@jupyter-widgets/base",
            "_model_module_version": "1.5.0",
            "_view_count": null,
            "_view_module_version": "1.2.0",
            "_model_module": "@jupyter-widgets/controls"
          }
        },
        "a97f47b3dfaf499a92620c5f8da15a5e": {
          "model_module": "@jupyter-widgets/base",
          "model_name": "LayoutModel",
          "state": {
            "_view_name": "LayoutView",
            "grid_template_rows": null,
            "right": null,
            "justify_content": null,
            "_view_module": "@jupyter-widgets/base",
            "overflow": null,
            "_model_module_version": "1.2.0",
            "_view_count": null,
            "flex_flow": null,
            "width": null,
            "min_width": null,
            "border": null,
            "align_items": null,
            "bottom": null,
            "_model_module": "@jupyter-widgets/base",
            "top": null,
            "grid_column": null,
            "overflow_y": null,
            "overflow_x": null,
            "grid_auto_flow": null,
            "grid_area": null,
            "grid_template_columns": null,
            "flex": null,
            "_model_name": "LayoutModel",
            "justify_items": null,
            "grid_row": null,
            "max_height": null,
            "align_content": null,
            "visibility": null,
            "align_self": null,
            "height": null,
            "min_height": null,
            "padding": null,
            "grid_auto_rows": null,
            "grid_gap": null,
            "max_width": null,
            "order": null,
            "_view_module_version": "1.2.0",
            "grid_template_areas": null,
            "object_position": null,
            "object_fit": null,
            "grid_auto_columns": null,
            "margin": null,
            "display": null,
            "left": null
          }
        },
        "262bb6efdb594bb3a7a6c48deec067d3": {
          "model_module": "@jupyter-widgets/controls",
          "model_name": "HBoxModel",
          "state": {
            "_view_name": "HBoxView",
            "_dom_classes": [],
            "_model_name": "HBoxModel",
            "_view_module": "@jupyter-widgets/controls",
            "_model_module_version": "1.5.0",
            "_view_count": null,
            "_view_module_version": "1.5.0",
            "box_style": "",
            "layout": "IPY_MODEL_05e201415a574c53af0a5c6afdce6169",
            "_model_module": "@jupyter-widgets/controls",
            "children": [
              "IPY_MODEL_b51bc3f44a6d4cd58e8c8bc02f9e1a37",
              "IPY_MODEL_b18f2216e98a461388536e4f8445aac7"
            ]
          }
        },
        "05e201415a574c53af0a5c6afdce6169": {
          "model_module": "@jupyter-widgets/base",
          "model_name": "LayoutModel",
          "state": {
            "_view_name": "LayoutView",
            "grid_template_rows": null,
            "right": null,
            "justify_content": null,
            "_view_module": "@jupyter-widgets/base",
            "overflow": null,
            "_model_module_version": "1.2.0",
            "_view_count": null,
            "flex_flow": null,
            "width": null,
            "min_width": null,
            "border": null,
            "align_items": null,
            "bottom": null,
            "_model_module": "@jupyter-widgets/base",
            "top": null,
            "grid_column": null,
            "overflow_y": null,
            "overflow_x": null,
            "grid_auto_flow": null,
            "grid_area": null,
            "grid_template_columns": null,
            "flex": null,
            "_model_name": "LayoutModel",
            "justify_items": null,
            "grid_row": null,
            "max_height": null,
            "align_content": null,
            "visibility": null,
            "align_self": null,
            "height": null,
            "min_height": null,
            "padding": null,
            "grid_auto_rows": null,
            "grid_gap": null,
            "max_width": null,
            "order": null,
            "_view_module_version": "1.2.0",
            "grid_template_areas": null,
            "object_position": null,
            "object_fit": null,
            "grid_auto_columns": null,
            "margin": null,
            "display": null,
            "left": null
          }
        },
        "b51bc3f44a6d4cd58e8c8bc02f9e1a37": {
          "model_module": "@jupyter-widgets/controls",
          "model_name": "FloatProgressModel",
          "state": {
            "_view_name": "ProgressView",
            "style": "IPY_MODEL_29484673f67d4152abba501d9b0e8997",
            "_dom_classes": [],
            "description": "",
            "_model_name": "FloatProgressModel",
            "bar_style": "success",
            "max": 29515,
            "_view_module": "@jupyter-widgets/controls",
            "_model_module_version": "1.5.0",
            "value": 29515,
            "_view_count": null,
            "_view_module_version": "1.5.0",
            "orientation": "horizontal",
            "min": 0,
            "description_tooltip": null,
            "_model_module": "@jupyter-widgets/controls",
            "layout": "IPY_MODEL_85eb645427aa48948c76e75264495d13"
          }
        },
        "b18f2216e98a461388536e4f8445aac7": {
          "model_module": "@jupyter-widgets/controls",
          "model_name": "HTMLModel",
          "state": {
            "_view_name": "HTMLView",
            "style": "IPY_MODEL_28348ee69ae9409b8c07a8f193989a9e",
            "_dom_classes": [],
            "description": "",
            "_model_name": "HTMLModel",
            "placeholder": "​",
            "_view_module": "@jupyter-widgets/controls",
            "_model_module_version": "1.5.0",
            "value": " 29696/? [1:21:39&lt;00:00,  6.06it/s]",
            "_view_count": null,
            "_view_module_version": "1.5.0",
            "description_tooltip": null,
            "_model_module": "@jupyter-widgets/controls",
            "layout": "IPY_MODEL_812dda11df4a40a3a4667aaef61437ff"
          }
        },
        "29484673f67d4152abba501d9b0e8997": {
          "model_module": "@jupyter-widgets/controls",
          "model_name": "ProgressStyleModel",
          "state": {
            "_view_name": "StyleView",
            "_model_name": "ProgressStyleModel",
            "description_width": "initial",
            "_view_module": "@jupyter-widgets/base",
            "_model_module_version": "1.5.0",
            "_view_count": null,
            "_view_module_version": "1.2.0",
            "bar_color": null,
            "_model_module": "@jupyter-widgets/controls"
          }
        },
        "85eb645427aa48948c76e75264495d13": {
          "model_module": "@jupyter-widgets/base",
          "model_name": "LayoutModel",
          "state": {
            "_view_name": "LayoutView",
            "grid_template_rows": null,
            "right": null,
            "justify_content": null,
            "_view_module": "@jupyter-widgets/base",
            "overflow": null,
            "_model_module_version": "1.2.0",
            "_view_count": null,
            "flex_flow": null,
            "width": null,
            "min_width": null,
            "border": null,
            "align_items": null,
            "bottom": null,
            "_model_module": "@jupyter-widgets/base",
            "top": null,
            "grid_column": null,
            "overflow_y": null,
            "overflow_x": null,
            "grid_auto_flow": null,
            "grid_area": null,
            "grid_template_columns": null,
            "flex": null,
            "_model_name": "LayoutModel",
            "justify_items": null,
            "grid_row": null,
            "max_height": null,
            "align_content": null,
            "visibility": null,
            "align_self": null,
            "height": null,
            "min_height": null,
            "padding": null,
            "grid_auto_rows": null,
            "grid_gap": null,
            "max_width": null,
            "order": null,
            "_view_module_version": "1.2.0",
            "grid_template_areas": null,
            "object_position": null,
            "object_fit": null,
            "grid_auto_columns": null,
            "margin": null,
            "display": null,
            "left": null
          }
        },
        "28348ee69ae9409b8c07a8f193989a9e": {
          "model_module": "@jupyter-widgets/controls",
          "model_name": "DescriptionStyleModel",
          "state": {
            "_view_name": "StyleView",
            "_model_name": "DescriptionStyleModel",
            "description_width": "",
            "_view_module": "@jupyter-widgets/base",
            "_model_module_version": "1.5.0",
            "_view_count": null,
            "_view_module_version": "1.2.0",
            "_model_module": "@jupyter-widgets/controls"
          }
        },
        "812dda11df4a40a3a4667aaef61437ff": {
          "model_module": "@jupyter-widgets/base",
          "model_name": "LayoutModel",
          "state": {
            "_view_name": "LayoutView",
            "grid_template_rows": null,
            "right": null,
            "justify_content": null,
            "_view_module": "@jupyter-widgets/base",
            "overflow": null,
            "_model_module_version": "1.2.0",
            "_view_count": null,
            "flex_flow": null,
            "width": null,
            "min_width": null,
            "border": null,
            "align_items": null,
            "bottom": null,
            "_model_module": "@jupyter-widgets/base",
            "top": null,
            "grid_column": null,
            "overflow_y": null,
            "overflow_x": null,
            "grid_auto_flow": null,
            "grid_area": null,
            "grid_template_columns": null,
            "flex": null,
            "_model_name": "LayoutModel",
            "justify_items": null,
            "grid_row": null,
            "max_height": null,
            "align_content": null,
            "visibility": null,
            "align_self": null,
            "height": null,
            "min_height": null,
            "padding": null,
            "grid_auto_rows": null,
            "grid_gap": null,
            "max_width": null,
            "order": null,
            "_view_module_version": "1.2.0",
            "grid_template_areas": null,
            "object_position": null,
            "object_fit": null,
            "grid_auto_columns": null,
            "margin": null,
            "display": null,
            "left": null
          }
        },
        "95c71992ffbc47639ff0217e988b0ac1": {
          "model_module": "@jupyter-widgets/controls",
          "model_name": "HBoxModel",
          "state": {
            "_view_name": "HBoxView",
            "_dom_classes": [],
            "_model_name": "HBoxModel",
            "_view_module": "@jupyter-widgets/controls",
            "_model_module_version": "1.5.0",
            "_view_count": null,
            "_view_module_version": "1.5.0",
            "box_style": "",
            "layout": "IPY_MODEL_987f03555c3b4e65913467cdc6dce271",
            "_model_module": "@jupyter-widgets/controls",
            "children": [
              "IPY_MODEL_bd254a15e29a4b51a804b25b586b3e75",
              "IPY_MODEL_fecafb3936b4491d82c1fb032f207f3a"
            ]
          }
        },
        "987f03555c3b4e65913467cdc6dce271": {
          "model_module": "@jupyter-widgets/base",
          "model_name": "LayoutModel",
          "state": {
            "_view_name": "LayoutView",
            "grid_template_rows": null,
            "right": null,
            "justify_content": null,
            "_view_module": "@jupyter-widgets/base",
            "overflow": null,
            "_model_module_version": "1.2.0",
            "_view_count": null,
            "flex_flow": null,
            "width": null,
            "min_width": null,
            "border": null,
            "align_items": null,
            "bottom": null,
            "_model_module": "@jupyter-widgets/base",
            "top": null,
            "grid_column": null,
            "overflow_y": null,
            "overflow_x": null,
            "grid_auto_flow": null,
            "grid_area": null,
            "grid_template_columns": null,
            "flex": null,
            "_model_name": "LayoutModel",
            "justify_items": null,
            "grid_row": null,
            "max_height": null,
            "align_content": null,
            "visibility": null,
            "align_self": null,
            "height": null,
            "min_height": null,
            "padding": null,
            "grid_auto_rows": null,
            "grid_gap": null,
            "max_width": null,
            "order": null,
            "_view_module_version": "1.2.0",
            "grid_template_areas": null,
            "object_position": null,
            "object_fit": null,
            "grid_auto_columns": null,
            "margin": null,
            "display": null,
            "left": null
          }
        },
        "bd254a15e29a4b51a804b25b586b3e75": {
          "model_module": "@jupyter-widgets/controls",
          "model_name": "FloatProgressModel",
          "state": {
            "_view_name": "ProgressView",
            "style": "IPY_MODEL_961600df883b439aa30e11e6b312d150",
            "_dom_classes": [],
            "description": "",
            "_model_name": "FloatProgressModel",
            "bar_style": "success",
            "max": 4422102,
            "_view_module": "@jupyter-widgets/controls",
            "_model_module_version": "1.5.0",
            "value": 4422102,
            "_view_count": null,
            "_view_module_version": "1.5.0",
            "orientation": "horizontal",
            "min": 0,
            "description_tooltip": null,
            "_model_module": "@jupyter-widgets/controls",
            "layout": "IPY_MODEL_b429c1f4a24f4b05ae44991d2f6c5309"
          }
        },
        "fecafb3936b4491d82c1fb032f207f3a": {
          "model_module": "@jupyter-widgets/controls",
          "model_name": "HTMLModel",
          "state": {
            "_view_name": "HTMLView",
            "style": "IPY_MODEL_6f45d945bdb1469bb91ec8e68e5c9ba4",
            "_dom_classes": [],
            "description": "",
            "_model_name": "HTMLModel",
            "placeholder": "​",
            "_view_module": "@jupyter-widgets/controls",
            "_model_module_version": "1.5.0",
            "value": " 4422656/? [00:02&lt;00:00, 1974856.96it/s]",
            "_view_count": null,
            "_view_module_version": "1.5.0",
            "description_tooltip": null,
            "_model_module": "@jupyter-widgets/controls",
            "layout": "IPY_MODEL_d6b509e460e44197b6dfa0b4faca69ee"
          }
        },
        "961600df883b439aa30e11e6b312d150": {
          "model_module": "@jupyter-widgets/controls",
          "model_name": "ProgressStyleModel",
          "state": {
            "_view_name": "StyleView",
            "_model_name": "ProgressStyleModel",
            "description_width": "initial",
            "_view_module": "@jupyter-widgets/base",
            "_model_module_version": "1.5.0",
            "_view_count": null,
            "_view_module_version": "1.2.0",
            "bar_color": null,
            "_model_module": "@jupyter-widgets/controls"
          }
        },
        "b429c1f4a24f4b05ae44991d2f6c5309": {
          "model_module": "@jupyter-widgets/base",
          "model_name": "LayoutModel",
          "state": {
            "_view_name": "LayoutView",
            "grid_template_rows": null,
            "right": null,
            "justify_content": null,
            "_view_module": "@jupyter-widgets/base",
            "overflow": null,
            "_model_module_version": "1.2.0",
            "_view_count": null,
            "flex_flow": null,
            "width": null,
            "min_width": null,
            "border": null,
            "align_items": null,
            "bottom": null,
            "_model_module": "@jupyter-widgets/base",
            "top": null,
            "grid_column": null,
            "overflow_y": null,
            "overflow_x": null,
            "grid_auto_flow": null,
            "grid_area": null,
            "grid_template_columns": null,
            "flex": null,
            "_model_name": "LayoutModel",
            "justify_items": null,
            "grid_row": null,
            "max_height": null,
            "align_content": null,
            "visibility": null,
            "align_self": null,
            "height": null,
            "min_height": null,
            "padding": null,
            "grid_auto_rows": null,
            "grid_gap": null,
            "max_width": null,
            "order": null,
            "_view_module_version": "1.2.0",
            "grid_template_areas": null,
            "object_position": null,
            "object_fit": null,
            "grid_auto_columns": null,
            "margin": null,
            "display": null,
            "left": null
          }
        },
        "6f45d945bdb1469bb91ec8e68e5c9ba4": {
          "model_module": "@jupyter-widgets/controls",
          "model_name": "DescriptionStyleModel",
          "state": {
            "_view_name": "StyleView",
            "_model_name": "DescriptionStyleModel",
            "description_width": "",
            "_view_module": "@jupyter-widgets/base",
            "_model_module_version": "1.5.0",
            "_view_count": null,
            "_view_module_version": "1.2.0",
            "_model_module": "@jupyter-widgets/controls"
          }
        },
        "d6b509e460e44197b6dfa0b4faca69ee": {
          "model_module": "@jupyter-widgets/base",
          "model_name": "LayoutModel",
          "state": {
            "_view_name": "LayoutView",
            "grid_template_rows": null,
            "right": null,
            "justify_content": null,
            "_view_module": "@jupyter-widgets/base",
            "overflow": null,
            "_model_module_version": "1.2.0",
            "_view_count": null,
            "flex_flow": null,
            "width": null,
            "min_width": null,
            "border": null,
            "align_items": null,
            "bottom": null,
            "_model_module": "@jupyter-widgets/base",
            "top": null,
            "grid_column": null,
            "overflow_y": null,
            "overflow_x": null,
            "grid_auto_flow": null,
            "grid_area": null,
            "grid_template_columns": null,
            "flex": null,
            "_model_name": "LayoutModel",
            "justify_items": null,
            "grid_row": null,
            "max_height": null,
            "align_content": null,
            "visibility": null,
            "align_self": null,
            "height": null,
            "min_height": null,
            "padding": null,
            "grid_auto_rows": null,
            "grid_gap": null,
            "max_width": null,
            "order": null,
            "_view_module_version": "1.2.0",
            "grid_template_areas": null,
            "object_position": null,
            "object_fit": null,
            "grid_auto_columns": null,
            "margin": null,
            "display": null,
            "left": null
          }
        },
        "1e47b6b65fd646c2af9c0aeefe36dbb6": {
          "model_module": "@jupyter-widgets/controls",
          "model_name": "HBoxModel",
          "state": {
            "_view_name": "HBoxView",
            "_dom_classes": [],
            "_model_name": "HBoxModel",
            "_view_module": "@jupyter-widgets/controls",
            "_model_module_version": "1.5.0",
            "_view_count": null,
            "_view_module_version": "1.5.0",
            "box_style": "",
            "layout": "IPY_MODEL_70807371dfed4b36a08e620137130d29",
            "_model_module": "@jupyter-widgets/controls",
            "children": [
              "IPY_MODEL_f4658dc62166465785f74898ef1e2702",
              "IPY_MODEL_855777601a4b42dcbf0fd68e07aec6fd"
            ]
          }
        },
        "70807371dfed4b36a08e620137130d29": {
          "model_module": "@jupyter-widgets/base",
          "model_name": "LayoutModel",
          "state": {
            "_view_name": "LayoutView",
            "grid_template_rows": null,
            "right": null,
            "justify_content": null,
            "_view_module": "@jupyter-widgets/base",
            "overflow": null,
            "_model_module_version": "1.2.0",
            "_view_count": null,
            "flex_flow": null,
            "width": null,
            "min_width": null,
            "border": null,
            "align_items": null,
            "bottom": null,
            "_model_module": "@jupyter-widgets/base",
            "top": null,
            "grid_column": null,
            "overflow_y": null,
            "overflow_x": null,
            "grid_auto_flow": null,
            "grid_area": null,
            "grid_template_columns": null,
            "flex": null,
            "_model_name": "LayoutModel",
            "justify_items": null,
            "grid_row": null,
            "max_height": null,
            "align_content": null,
            "visibility": null,
            "align_self": null,
            "height": null,
            "min_height": null,
            "padding": null,
            "grid_auto_rows": null,
            "grid_gap": null,
            "max_width": null,
            "order": null,
            "_view_module_version": "1.2.0",
            "grid_template_areas": null,
            "object_position": null,
            "object_fit": null,
            "grid_auto_columns": null,
            "margin": null,
            "display": null,
            "left": null
          }
        },
        "f4658dc62166465785f74898ef1e2702": {
          "model_module": "@jupyter-widgets/controls",
          "model_name": "FloatProgressModel",
          "state": {
            "_view_name": "ProgressView",
            "style": "IPY_MODEL_5e378213ee144430b2652b1de1bdd4e7",
            "_dom_classes": [],
            "description": "",
            "_model_name": "FloatProgressModel",
            "bar_style": "success",
            "max": 5148,
            "_view_module": "@jupyter-widgets/controls",
            "_model_module_version": "1.5.0",
            "value": 5148,
            "_view_count": null,
            "_view_module_version": "1.5.0",
            "orientation": "horizontal",
            "min": 0,
            "description_tooltip": null,
            "_model_module": "@jupyter-widgets/controls",
            "layout": "IPY_MODEL_d68c175c80cc4c3cbee1309341601893"
          }
        },
        "855777601a4b42dcbf0fd68e07aec6fd": {
          "model_module": "@jupyter-widgets/controls",
          "model_name": "HTMLModel",
          "state": {
            "_view_name": "HTMLView",
            "style": "IPY_MODEL_500f32c282754f968a935ba69afb0504",
            "_dom_classes": [],
            "description": "",
            "_model_name": "HTMLModel",
            "placeholder": "​",
            "_view_module": "@jupyter-widgets/controls",
            "_model_module_version": "1.5.0",
            "value": " 6144/? [00:00&lt;00:00, 17786.70it/s]",
            "_view_count": null,
            "_view_module_version": "1.5.0",
            "description_tooltip": null,
            "_model_module": "@jupyter-widgets/controls",
            "layout": "IPY_MODEL_c628522a913245f8aa27b6edf525900f"
          }
        },
        "5e378213ee144430b2652b1de1bdd4e7": {
          "model_module": "@jupyter-widgets/controls",
          "model_name": "ProgressStyleModel",
          "state": {
            "_view_name": "StyleView",
            "_model_name": "ProgressStyleModel",
            "description_width": "initial",
            "_view_module": "@jupyter-widgets/base",
            "_model_module_version": "1.5.0",
            "_view_count": null,
            "_view_module_version": "1.2.0",
            "bar_color": null,
            "_model_module": "@jupyter-widgets/controls"
          }
        },
        "d68c175c80cc4c3cbee1309341601893": {
          "model_module": "@jupyter-widgets/base",
          "model_name": "LayoutModel",
          "state": {
            "_view_name": "LayoutView",
            "grid_template_rows": null,
            "right": null,
            "justify_content": null,
            "_view_module": "@jupyter-widgets/base",
            "overflow": null,
            "_model_module_version": "1.2.0",
            "_view_count": null,
            "flex_flow": null,
            "width": null,
            "min_width": null,
            "border": null,
            "align_items": null,
            "bottom": null,
            "_model_module": "@jupyter-widgets/base",
            "top": null,
            "grid_column": null,
            "overflow_y": null,
            "overflow_x": null,
            "grid_auto_flow": null,
            "grid_area": null,
            "grid_template_columns": null,
            "flex": null,
            "_model_name": "LayoutModel",
            "justify_items": null,
            "grid_row": null,
            "max_height": null,
            "align_content": null,
            "visibility": null,
            "align_self": null,
            "height": null,
            "min_height": null,
            "padding": null,
            "grid_auto_rows": null,
            "grid_gap": null,
            "max_width": null,
            "order": null,
            "_view_module_version": "1.2.0",
            "grid_template_areas": null,
            "object_position": null,
            "object_fit": null,
            "grid_auto_columns": null,
            "margin": null,
            "display": null,
            "left": null
          }
        },
        "500f32c282754f968a935ba69afb0504": {
          "model_module": "@jupyter-widgets/controls",
          "model_name": "DescriptionStyleModel",
          "state": {
            "_view_name": "StyleView",
            "_model_name": "DescriptionStyleModel",
            "description_width": "",
            "_view_module": "@jupyter-widgets/base",
            "_model_module_version": "1.5.0",
            "_view_count": null,
            "_view_module_version": "1.2.0",
            "_model_module": "@jupyter-widgets/controls"
          }
        },
        "c628522a913245f8aa27b6edf525900f": {
          "model_module": "@jupyter-widgets/base",
          "model_name": "LayoutModel",
          "state": {
            "_view_name": "LayoutView",
            "grid_template_rows": null,
            "right": null,
            "justify_content": null,
            "_view_module": "@jupyter-widgets/base",
            "overflow": null,
            "_model_module_version": "1.2.0",
            "_view_count": null,
            "flex_flow": null,
            "width": null,
            "min_width": null,
            "border": null,
            "align_items": null,
            "bottom": null,
            "_model_module": "@jupyter-widgets/base",
            "top": null,
            "grid_column": null,
            "overflow_y": null,
            "overflow_x": null,
            "grid_auto_flow": null,
            "grid_area": null,
            "grid_template_columns": null,
            "flex": null,
            "_model_name": "LayoutModel",
            "justify_items": null,
            "grid_row": null,
            "max_height": null,
            "align_content": null,
            "visibility": null,
            "align_self": null,
            "height": null,
            "min_height": null,
            "padding": null,
            "grid_auto_rows": null,
            "grid_gap": null,
            "max_width": null,
            "order": null,
            "_view_module_version": "1.2.0",
            "grid_template_areas": null,
            "object_position": null,
            "object_fit": null,
            "grid_auto_columns": null,
            "margin": null,
            "display": null,
            "left": null
          }
        }
      }
    }
  },
  "cells": [
    {
      "cell_type": "markdown",
      "metadata": {
        "id": "lhrhF4Jwo88-"
      },
      "source": [
        "# GAN으로 새로운 패션아이템 생성하기\n",
        "*GAN을 이용하여 새로운 패션 아이템을 만들어봅니다*\n",
        "\n",
        "이 프로젝트는 최윤제님의 파이토치 튜토리얼 사용 허락을 받아 참고했습니다.\n",
        "\n",
        "* [yunjey/pytorch-tutorial](https://github.com/yunjey/pytorch-tutorial) - MIT License"
      ]
    },
    {
      "cell_type": "code",
      "metadata": {
        "id": "lYftMrNyo89B"
      },
      "source": [
        "import os\n",
        "import torch\n",
        "import torchvision\n",
        "import torch.nn as nn\n",
        "import torch.optim as optim\n",
        "from torchvision import transforms, datasets\n",
        "from torchvision.utils import save_image\n",
        "import matplotlib.pyplot as plt\n",
        "import numpy as np"
      ],
      "execution_count": 1,
      "outputs": []
    },
    {
      "cell_type": "markdown",
      "metadata": {
        "id": "87q1eCfxo89C"
      },
      "source": [
        "EPOCHS 과 BATCH_SIZE 등 학습에 필요한 하이퍼 파라미터 들을 설정해 줍니다."
      ]
    },
    {
      "cell_type": "code",
      "metadata": {
        "colab": {
          "base_uri": "https://localhost:8080/"
        },
        "id": "2Rz2BSkLo89C",
        "outputId": "2c5782e6-ebb7-432b-b3c6-d2f37a75aab2"
      },
      "source": [
        "# 하이퍼파라미터\n",
        "EPOCHS = 500\n",
        "BATCH_SIZE = 100\n",
        "USE_CUDA = torch.cuda.is_available()\n",
        "DEVICE = torch.device(\"cuda\" if USE_CUDA else \"cpu\")\n",
        "print(\"Using Device:\", DEVICE)"
      ],
      "execution_count": 2,
      "outputs": [
        {
          "output_type": "stream",
          "text": [
            "Using Device: cuda\n"
          ],
          "name": "stdout"
        }
      ]
    },
    {
      "cell_type": "markdown",
      "metadata": {
        "id": "D3UeWGnuo89D"
      },
      "source": [
        "학습에 필요한 데이터셋을 로딩합니다. "
      ]
    },
    {
      "cell_type": "code",
      "metadata": {
        "colab": {
          "base_uri": "https://localhost:8080/",
          "height": 601,
          "referenced_widgets": [
            "17dc24d8cc6e412cbf1b7b6656499364",
            "ca637f41fd27431fa11e57fee2706fae",
            "a06e2c4e280847e0aebec3a18d447f42",
            "c70d638f8d6e46e6a1bc27a1493712db",
            "d9ea126bbd54420e8f084ed47ecdf150",
            "4903d58ee3af442193cf228bf7fd1f97",
            "81c4d48d8b51429aaf9c2844897f0bfb",
            "a97f47b3dfaf499a92620c5f8da15a5e",
            "262bb6efdb594bb3a7a6c48deec067d3",
            "05e201415a574c53af0a5c6afdce6169",
            "b51bc3f44a6d4cd58e8c8bc02f9e1a37",
            "b18f2216e98a461388536e4f8445aac7",
            "29484673f67d4152abba501d9b0e8997",
            "85eb645427aa48948c76e75264495d13",
            "28348ee69ae9409b8c07a8f193989a9e",
            "812dda11df4a40a3a4667aaef61437ff",
            "95c71992ffbc47639ff0217e988b0ac1",
            "987f03555c3b4e65913467cdc6dce271",
            "bd254a15e29a4b51a804b25b586b3e75",
            "fecafb3936b4491d82c1fb032f207f3a",
            "961600df883b439aa30e11e6b312d150",
            "b429c1f4a24f4b05ae44991d2f6c5309",
            "6f45d945bdb1469bb91ec8e68e5c9ba4",
            "d6b509e460e44197b6dfa0b4faca69ee",
            "1e47b6b65fd646c2af9c0aeefe36dbb6",
            "70807371dfed4b36a08e620137130d29",
            "f4658dc62166465785f74898ef1e2702",
            "855777601a4b42dcbf0fd68e07aec6fd",
            "5e378213ee144430b2652b1de1bdd4e7",
            "d68c175c80cc4c3cbee1309341601893",
            "500f32c282754f968a935ba69afb0504",
            "c628522a913245f8aa27b6edf525900f"
          ]
        },
        "id": "29JWKDmGo89E",
        "outputId": "14634c37-2612-4fb2-aa93-1022a48d6e28"
      },
      "source": [
        "# Fashion MNIST 데이터셋\n",
        "trainset = datasets.FashionMNIST(\n",
        "    './.data',\n",
        "    train=True,\n",
        "    download=True,\n",
        "    transform=transforms.Compose([\n",
        "       transforms.ToTensor(),\n",
        "       transforms.Normalize((0.5,), (0.5,))\n",
        "    ])\n",
        ")\n",
        "train_loader = torch.utils.data.DataLoader(\n",
        "    dataset     = trainset,\n",
        "    batch_size  = BATCH_SIZE,\n",
        "    shuffle     = True\n",
        ")"
      ],
      "execution_count": 3,
      "outputs": [
        {
          "output_type": "stream",
          "text": [
            "Downloading http://fashion-mnist.s3-website.eu-central-1.amazonaws.com/train-images-idx3-ubyte.gz\n",
            "Downloading http://fashion-mnist.s3-website.eu-central-1.amazonaws.com/train-images-idx3-ubyte.gz to ./.data/FashionMNIST/raw/train-images-idx3-ubyte.gz\n"
          ],
          "name": "stdout"
        },
        {
          "output_type": "display_data",
          "data": {
            "application/vnd.jupyter.widget-view+json": {
              "model_id": "17dc24d8cc6e412cbf1b7b6656499364",
              "version_minor": 0,
              "version_major": 2
            },
            "text/plain": [
              "HBox(children=(FloatProgress(value=0.0, max=26421880.0), HTML(value='')))"
            ]
          },
          "metadata": {
            "tags": []
          }
        },
        {
          "output_type": "stream",
          "text": [
            "\n",
            "Extracting ./.data/FashionMNIST/raw/train-images-idx3-ubyte.gz to ./.data/FashionMNIST/raw\n",
            "\n",
            "Downloading http://fashion-mnist.s3-website.eu-central-1.amazonaws.com/train-labels-idx1-ubyte.gz\n",
            "Downloading http://fashion-mnist.s3-website.eu-central-1.amazonaws.com/train-labels-idx1-ubyte.gz to ./.data/FashionMNIST/raw/train-labels-idx1-ubyte.gz\n"
          ],
          "name": "stdout"
        },
        {
          "output_type": "display_data",
          "data": {
            "application/vnd.jupyter.widget-view+json": {
              "model_id": "262bb6efdb594bb3a7a6c48deec067d3",
              "version_minor": 0,
              "version_major": 2
            },
            "text/plain": [
              "HBox(children=(FloatProgress(value=0.0, max=29515.0), HTML(value='')))"
            ]
          },
          "metadata": {
            "tags": []
          }
        },
        {
          "output_type": "stream",
          "text": [
            "\n",
            "Extracting ./.data/FashionMNIST/raw/train-labels-idx1-ubyte.gz to ./.data/FashionMNIST/raw\n",
            "\n",
            "Downloading http://fashion-mnist.s3-website.eu-central-1.amazonaws.com/t10k-images-idx3-ubyte.gz\n",
            "Downloading http://fashion-mnist.s3-website.eu-central-1.amazonaws.com/t10k-images-idx3-ubyte.gz to ./.data/FashionMNIST/raw/t10k-images-idx3-ubyte.gz\n"
          ],
          "name": "stdout"
        },
        {
          "output_type": "display_data",
          "data": {
            "application/vnd.jupyter.widget-view+json": {
              "model_id": "95c71992ffbc47639ff0217e988b0ac1",
              "version_minor": 0,
              "version_major": 2
            },
            "text/plain": [
              "HBox(children=(FloatProgress(value=0.0, max=4422102.0), HTML(value='')))"
            ]
          },
          "metadata": {
            "tags": []
          }
        },
        {
          "output_type": "stream",
          "text": [
            "\n",
            "Extracting ./.data/FashionMNIST/raw/t10k-images-idx3-ubyte.gz to ./.data/FashionMNIST/raw\n",
            "\n",
            "Downloading http://fashion-mnist.s3-website.eu-central-1.amazonaws.com/t10k-labels-idx1-ubyte.gz\n",
            "Downloading http://fashion-mnist.s3-website.eu-central-1.amazonaws.com/t10k-labels-idx1-ubyte.gz to ./.data/FashionMNIST/raw/t10k-labels-idx1-ubyte.gz\n"
          ],
          "name": "stdout"
        },
        {
          "output_type": "display_data",
          "data": {
            "application/vnd.jupyter.widget-view+json": {
              "model_id": "1e47b6b65fd646c2af9c0aeefe36dbb6",
              "version_minor": 0,
              "version_major": 2
            },
            "text/plain": [
              "HBox(children=(FloatProgress(value=0.0, max=5148.0), HTML(value='')))"
            ]
          },
          "metadata": {
            "tags": []
          }
        },
        {
          "output_type": "stream",
          "text": [
            "\n",
            "Extracting ./.data/FashionMNIST/raw/t10k-labels-idx1-ubyte.gz to ./.data/FashionMNIST/raw\n",
            "\n",
            "Processing...\n",
            "Done!\n"
          ],
          "name": "stdout"
        },
        {
          "output_type": "stream",
          "text": [
            "/usr/local/lib/python3.7/dist-packages/torchvision/datasets/mnist.py:502: UserWarning: The given NumPy array is not writeable, and PyTorch does not support non-writeable tensors. This means you can write to the underlying (supposedly non-writeable) NumPy array using the tensor. You may want to copy the array to protect its data or make it writeable before converting it to a tensor. This type of warning will be suppressed for the rest of this program. (Triggered internally at  /pytorch/torch/csrc/utils/tensor_numpy.cpp:143.)\n",
            "  return torch.from_numpy(parsed.astype(m[2], copy=False)).view(*s)\n"
          ],
          "name": "stderr"
        }
      ]
    },
    {
      "cell_type": "markdown",
      "metadata": {
        "id": "3wsXo5PDo89F"
      },
      "source": [
        "생성자는 64차원의 랜덤한 텐서를 입력받아 이에 행렬곱(Linear)과 활성화 함수(ReLU, Tanh) 연산을 실행합니다. 생성자의 결과값은 784차원, 즉 Fashion MNIST 속의 이미지와 같은 차원의 텐서입니다."
      ]
    },
    {
      "cell_type": "code",
      "metadata": {
        "id": "bLx40csqo89G"
      },
      "source": [
        "# 생성자 (Generator)\n",
        "G = nn.Sequential(\n",
        "        nn.Linear(64, 256),\n",
        "        nn.ReLU(),\n",
        "        nn.Linear(256, 256),\n",
        "        nn.ReLU(),\n",
        "        nn.Linear(256, 784),\n",
        "        nn.Tanh())"
      ],
      "execution_count": 4,
      "outputs": []
    },
    {
      "cell_type": "markdown",
      "metadata": {
        "id": "Pc7p8gRoo89H"
      },
      "source": [
        "판별자는 784차원의 텐서를 입력받습니다. 판별자 역시 입력된 데이터에 행렬곱과 활성화 함수를 실행시키지만, 생성자와 달리 판별자의 결과값은 입력받은 텐서가 진짜인지 구분하는 예측값입니다."
      ]
    },
    {
      "cell_type": "code",
      "metadata": {
        "id": "7BlIYNWpo89H"
      },
      "source": [
        "# 판별자 (Discriminator)\n",
        "# Leaky ReLU : 약간의 음의 기울기도 다음 layer로 전달\n",
        "# discriminator에서 계산한 기울기가 0이 아닌 약한 음수로 전환되며 생성자 측에 더 강하게 전달\n",
        "D = nn.Sequential(\n",
        "        nn.Linear(784, 256),\n",
        "        nn.LeakyReLU(0.2),\n",
        "        nn.Linear(256, 256),\n",
        "        nn.LeakyReLU(0.2),\n",
        "        nn.Linear(256, 1),\n",
        "        nn.Sigmoid())"
      ],
      "execution_count": 5,
      "outputs": []
    },
    {
      "cell_type": "markdown",
      "metadata": {
        "id": "DV8TEreLo89H"
      },
      "source": [
        "생성자와 판별자 학습에 쓰일 오차 함수와 최적화 알고리즘도 정의해 줍니다."
      ]
    },
    {
      "cell_type": "code",
      "metadata": {
        "id": "nV-qP_sao89I"
      },
      "source": [
        "# 모델의 가중치를 지정한 장치로 보내기\n",
        "# CUDA(GPU) / CPU\n",
        "D = D.to(DEVICE)\n",
        "G = G.to(DEVICE)\n",
        "\n",
        "# 이진 크로스 엔트로피 (Binary cross entropy) 오차 함수와\n",
        "# 생성자와 판별자를 최적화할 Adam 모듈\n",
        "criterion = nn.BCELoss()\n",
        "d_optimizer = optim.Adam(D.parameters(), lr=0.0002)\n",
        "g_optimizer = optim.Adam(G.parameters(), lr=0.0002)"
      ],
      "execution_count": 6,
      "outputs": []
    },
    {
      "cell_type": "markdown",
      "metadata": {
        "id": "fdDGasGso89I"
      },
      "source": [
        "모델 학습에 필요한 준비는 끝났습니다. 그럼 본격적으로 GAN을 학습시키는 loop을 만들어 보겠습니다. "
      ]
    },
    {
      "cell_type": "code",
      "metadata": {
        "colab": {
          "base_uri": "https://localhost:8080/"
        },
        "id": "GeupPY7Oo89I",
        "outputId": "1ec14056-9b85-4d77-bddc-bce2bdeb8d09"
      },
      "source": [
        "total_step = len(train_loader)\n",
        "for epoch in range(EPOCHS):\n",
        "    for i, (images, _) in enumerate(train_loader):\n",
        "        images = images.reshape(BATCH_SIZE, -1).to(DEVICE)\n",
        "        \n",
        "        # '진짜'와 '가짜' 레이블 생성\n",
        "        real_labels = torch.ones(BATCH_SIZE, 1).to(DEVICE)# [1,1,1...]\n",
        "        fake_labels = torch.zeros(BATCH_SIZE, 1).to(DEVICE)# [0.0,0...]\n",
        "        \n",
        "        # 판별자가 진짜 이미지를 진짜로 인식하는 오차를 예산\n",
        "        outputs = D(images) # 진짜 이미지를 discriminator의 입력으로 제공\n",
        "        d_loss_real = criterion(outputs, real_labels)\n",
        "        real_score = outputs\n",
        "        \n",
        "        # 무작위 텐서로 가짜 이미지 생성\n",
        "        z = torch.randn(BATCH_SIZE, 64).to(DEVICE)\n",
        "        fake_images = G(z) #G의 입력으로 랜덤 텐서 제공, G가 fake image 생성\n",
        "        \n",
        "        # 판별자가 가짜 이미지를 가짜로 인식하는 오차를 계산\n",
        "        outputs = D(fake_images)# 가짜 이미지를 discriminator의 입력으로 제공\n",
        "        d_loss_fake = criterion(outputs, fake_labels)\n",
        "        fake_score = outputs\n",
        "        \n",
        "        # 진짜와 가짜 이미지를 갖고 낸 오차를 더해서 Discriminator의 오차 계산\n",
        "        d_loss = d_loss_real + d_loss_fake\n",
        "\n",
        "        #------ Discriminator 학습 ------#\n",
        "        # 역전파 알고리즘으로 Discriminator의 학습을 진행\n",
        "        d_optimizer.zero_grad()\n",
        "        g_optimizer.zero_grad()\n",
        "        d_loss.backward()\n",
        "        d_optimizer.step()# Discriminator 학습\n",
        "        \n",
        "        # 생성자가 판별자를 속였는지에 대한 오차(Generator의 loss)를 계산\n",
        "        fake_images = G(z)\n",
        "        outputs = D(fake_images) #한번 학습한 D가 fake image를 \n",
        "        g_loss = criterion(outputs, real_labels)\n",
        "\n",
        "         #------ Generator 학습 ------#\n",
        "        \n",
        "        # 역전파 알고리즘으로 생성자 모델의 학습을 진행\n",
        "        d_optimizer.zero_grad()\n",
        "        g_optimizer.zero_grad()\n",
        "        g_loss.backward()\n",
        "        g_optimizer.step()\n",
        "        \n",
        "    # 학습 진행 알아보기\n",
        "    print('Epoch [{}/{}], d_loss: {:.4f}, g_loss: {:.4f}, D(x): {:.2f}, D(G(z)): {:.2f}' \n",
        "          .format(epoch, EPOCHS, d_loss.item(), g_loss.item(), \n",
        "                  real_score.mean().item(), fake_score.mean().item()))"
      ],
      "execution_count": 7,
      "outputs": [
        {
          "output_type": "stream",
          "text": [
            "Epoch [0/500], d_loss: 0.0882, g_loss: 3.8892, D(x): 0.98, D(G(z)): 0.06\n",
            "Epoch [1/500], d_loss: 0.1201, g_loss: 4.6757, D(x): 0.96, D(G(z)): 0.03\n",
            "Epoch [2/500], d_loss: 0.0314, g_loss: 8.3980, D(x): 0.98, D(G(z)): 0.00\n",
            "Epoch [3/500], d_loss: 0.0294, g_loss: 7.9051, D(x): 0.98, D(G(z)): 0.01\n",
            "Epoch [4/500], d_loss: 0.1974, g_loss: 3.8088, D(x): 0.95, D(G(z)): 0.08\n",
            "Epoch [5/500], d_loss: 0.0885, g_loss: 4.8908, D(x): 0.97, D(G(z)): 0.02\n",
            "Epoch [6/500], d_loss: 0.0711, g_loss: 4.6400, D(x): 0.98, D(G(z)): 0.05\n",
            "Epoch [7/500], d_loss: 0.3527, g_loss: 4.5870, D(x): 0.92, D(G(z)): 0.08\n",
            "Epoch [8/500], d_loss: 0.2239, g_loss: 5.8944, D(x): 0.92, D(G(z)): 0.01\n",
            "Epoch [9/500], d_loss: 0.3074, g_loss: 5.9306, D(x): 0.91, D(G(z)): 0.04\n",
            "Epoch [10/500], d_loss: 0.2687, g_loss: 5.2147, D(x): 0.95, D(G(z)): 0.12\n",
            "Epoch [11/500], d_loss: 0.2224, g_loss: 3.8949, D(x): 0.93, D(G(z)): 0.05\n",
            "Epoch [12/500], d_loss: 0.2381, g_loss: 3.6749, D(x): 0.95, D(G(z)): 0.13\n",
            "Epoch [13/500], d_loss: 0.2247, g_loss: 4.5067, D(x): 0.92, D(G(z)): 0.04\n",
            "Epoch [14/500], d_loss: 0.3841, g_loss: 4.0116, D(x): 0.86, D(G(z)): 0.04\n",
            "Epoch [15/500], d_loss: 0.3792, g_loss: 3.1746, D(x): 0.93, D(G(z)): 0.17\n",
            "Epoch [16/500], d_loss: 0.2822, g_loss: 3.9747, D(x): 0.92, D(G(z)): 0.11\n",
            "Epoch [17/500], d_loss: 0.5547, g_loss: 3.8548, D(x): 0.83, D(G(z)): 0.07\n",
            "Epoch [18/500], d_loss: 0.4608, g_loss: 3.6079, D(x): 0.86, D(G(z)): 0.15\n",
            "Epoch [19/500], d_loss: 0.4317, g_loss: 2.7305, D(x): 0.90, D(G(z)): 0.18\n",
            "Epoch [20/500], d_loss: 0.4572, g_loss: 2.3704, D(x): 0.91, D(G(z)): 0.22\n",
            "Epoch [21/500], d_loss: 0.6171, g_loss: 2.8128, D(x): 0.81, D(G(z)): 0.16\n",
            "Epoch [22/500], d_loss: 0.7179, g_loss: 3.5744, D(x): 0.86, D(G(z)): 0.22\n",
            "Epoch [23/500], d_loss: 0.4400, g_loss: 3.5389, D(x): 0.88, D(G(z)): 0.16\n",
            "Epoch [24/500], d_loss: 0.6804, g_loss: 3.0943, D(x): 0.77, D(G(z)): 0.13\n",
            "Epoch [25/500], d_loss: 0.4533, g_loss: 2.2901, D(x): 0.89, D(G(z)): 0.19\n",
            "Epoch [26/500], d_loss: 0.5390, g_loss: 2.8227, D(x): 0.86, D(G(z)): 0.18\n",
            "Epoch [27/500], d_loss: 0.5327, g_loss: 3.6041, D(x): 0.86, D(G(z)): 0.15\n",
            "Epoch [28/500], d_loss: 0.4564, g_loss: 2.2933, D(x): 0.86, D(G(z)): 0.14\n",
            "Epoch [29/500], d_loss: 0.4958, g_loss: 3.0046, D(x): 0.82, D(G(z)): 0.13\n",
            "Epoch [30/500], d_loss: 0.2465, g_loss: 3.1747, D(x): 0.92, D(G(z)): 0.10\n",
            "Epoch [31/500], d_loss: 0.6933, g_loss: 2.1215, D(x): 0.76, D(G(z)): 0.14\n",
            "Epoch [32/500], d_loss: 0.5891, g_loss: 2.5976, D(x): 0.87, D(G(z)): 0.19\n",
            "Epoch [33/500], d_loss: 0.3292, g_loss: 2.6688, D(x): 0.89, D(G(z)): 0.14\n",
            "Epoch [34/500], d_loss: 0.5376, g_loss: 3.3196, D(x): 0.86, D(G(z)): 0.17\n",
            "Epoch [35/500], d_loss: 0.4472, g_loss: 3.1937, D(x): 0.88, D(G(z)): 0.18\n",
            "Epoch [36/500], d_loss: 0.5954, g_loss: 2.7396, D(x): 0.80, D(G(z)): 0.15\n",
            "Epoch [37/500], d_loss: 0.6485, g_loss: 2.9576, D(x): 0.85, D(G(z)): 0.26\n",
            "Epoch [38/500], d_loss: 0.5311, g_loss: 2.4068, D(x): 0.89, D(G(z)): 0.24\n",
            "Epoch [39/500], d_loss: 0.6719, g_loss: 2.0054, D(x): 0.79, D(G(z)): 0.19\n",
            "Epoch [40/500], d_loss: 0.5883, g_loss: 2.3981, D(x): 0.78, D(G(z)): 0.14\n",
            "Epoch [41/500], d_loss: 0.6877, g_loss: 2.4070, D(x): 0.81, D(G(z)): 0.24\n",
            "Epoch [42/500], d_loss: 0.8660, g_loss: 2.3346, D(x): 0.73, D(G(z)): 0.21\n",
            "Epoch [43/500], d_loss: 0.7163, g_loss: 2.2243, D(x): 0.82, D(G(z)): 0.24\n",
            "Epoch [44/500], d_loss: 0.4553, g_loss: 2.9416, D(x): 0.83, D(G(z)): 0.13\n",
            "Epoch [45/500], d_loss: 0.5037, g_loss: 2.4242, D(x): 0.86, D(G(z)): 0.22\n",
            "Epoch [46/500], d_loss: 0.6849, g_loss: 2.6765, D(x): 0.84, D(G(z)): 0.23\n",
            "Epoch [47/500], d_loss: 0.4720, g_loss: 2.5422, D(x): 0.85, D(G(z)): 0.14\n",
            "Epoch [48/500], d_loss: 0.5961, g_loss: 3.3189, D(x): 0.83, D(G(z)): 0.16\n",
            "Epoch [49/500], d_loss: 0.6811, g_loss: 2.2847, D(x): 0.84, D(G(z)): 0.25\n",
            "Epoch [50/500], d_loss: 0.8037, g_loss: 2.1463, D(x): 0.77, D(G(z)): 0.24\n",
            "Epoch [51/500], d_loss: 0.6564, g_loss: 2.0715, D(x): 0.83, D(G(z)): 0.27\n",
            "Epoch [52/500], d_loss: 0.7560, g_loss: 2.3072, D(x): 0.74, D(G(z)): 0.17\n",
            "Epoch [53/500], d_loss: 0.8046, g_loss: 1.9174, D(x): 0.82, D(G(z)): 0.32\n",
            "Epoch [54/500], d_loss: 0.7234, g_loss: 2.0871, D(x): 0.73, D(G(z)): 0.17\n",
            "Epoch [55/500], d_loss: 0.6716, g_loss: 2.7021, D(x): 0.82, D(G(z)): 0.23\n",
            "Epoch [56/500], d_loss: 0.5516, g_loss: 2.4285, D(x): 0.84, D(G(z)): 0.20\n",
            "Epoch [57/500], d_loss: 0.8080, g_loss: 1.6988, D(x): 0.76, D(G(z)): 0.25\n",
            "Epoch [58/500], d_loss: 0.9182, g_loss: 1.7864, D(x): 0.84, D(G(z)): 0.38\n",
            "Epoch [59/500], d_loss: 0.5474, g_loss: 2.4857, D(x): 0.84, D(G(z)): 0.21\n",
            "Epoch [60/500], d_loss: 0.7360, g_loss: 1.5266, D(x): 0.82, D(G(z)): 0.30\n",
            "Epoch [61/500], d_loss: 0.7385, g_loss: 3.2571, D(x): 0.76, D(G(z)): 0.17\n",
            "Epoch [62/500], d_loss: 0.4144, g_loss: 3.1892, D(x): 0.83, D(G(z)): 0.11\n",
            "Epoch [63/500], d_loss: 0.8507, g_loss: 1.8942, D(x): 0.71, D(G(z)): 0.22\n",
            "Epoch [64/500], d_loss: 0.7851, g_loss: 2.0044, D(x): 0.77, D(G(z)): 0.24\n",
            "Epoch [65/500], d_loss: 0.6057, g_loss: 2.3954, D(x): 0.84, D(G(z)): 0.23\n",
            "Epoch [66/500], d_loss: 0.8512, g_loss: 2.3645, D(x): 0.73, D(G(z)): 0.24\n",
            "Epoch [67/500], d_loss: 0.8138, g_loss: 2.0878, D(x): 0.71, D(G(z)): 0.18\n",
            "Epoch [68/500], d_loss: 0.6302, g_loss: 2.3023, D(x): 0.79, D(G(z)): 0.21\n",
            "Epoch [69/500], d_loss: 0.9225, g_loss: 1.9670, D(x): 0.76, D(G(z)): 0.29\n",
            "Epoch [70/500], d_loss: 0.8882, g_loss: 1.8026, D(x): 0.75, D(G(z)): 0.28\n",
            "Epoch [71/500], d_loss: 0.8961, g_loss: 2.6584, D(x): 0.69, D(G(z)): 0.23\n",
            "Epoch [72/500], d_loss: 0.8323, g_loss: 1.6985, D(x): 0.82, D(G(z)): 0.33\n",
            "Epoch [73/500], d_loss: 0.9236, g_loss: 2.2025, D(x): 0.83, D(G(z)): 0.37\n",
            "Epoch [74/500], d_loss: 0.6580, g_loss: 2.4469, D(x): 0.83, D(G(z)): 0.24\n",
            "Epoch [75/500], d_loss: 0.6613, g_loss: 2.0659, D(x): 0.79, D(G(z)): 0.25\n",
            "Epoch [76/500], d_loss: 0.7116, g_loss: 2.0970, D(x): 0.77, D(G(z)): 0.23\n",
            "Epoch [77/500], d_loss: 0.6667, g_loss: 2.2008, D(x): 0.82, D(G(z)): 0.25\n",
            "Epoch [78/500], d_loss: 0.6533, g_loss: 1.9211, D(x): 0.78, D(G(z)): 0.23\n",
            "Epoch [79/500], d_loss: 0.6633, g_loss: 1.9200, D(x): 0.76, D(G(z)): 0.21\n",
            "Epoch [80/500], d_loss: 1.0272, g_loss: 1.4529, D(x): 0.75, D(G(z)): 0.33\n",
            "Epoch [81/500], d_loss: 0.5832, g_loss: 2.2202, D(x): 0.85, D(G(z)): 0.22\n",
            "Epoch [82/500], d_loss: 0.6816, g_loss: 1.8491, D(x): 0.78, D(G(z)): 0.23\n",
            "Epoch [83/500], d_loss: 0.7738, g_loss: 1.9969, D(x): 0.79, D(G(z)): 0.29\n",
            "Epoch [84/500], d_loss: 0.6568, g_loss: 2.3636, D(x): 0.79, D(G(z)): 0.24\n",
            "Epoch [85/500], d_loss: 0.7405, g_loss: 2.1384, D(x): 0.76, D(G(z)): 0.25\n",
            "Epoch [86/500], d_loss: 0.7126, g_loss: 2.4000, D(x): 0.74, D(G(z)): 0.20\n",
            "Epoch [87/500], d_loss: 0.8234, g_loss: 1.8046, D(x): 0.81, D(G(z)): 0.32\n",
            "Epoch [88/500], d_loss: 0.8316, g_loss: 2.0534, D(x): 0.74, D(G(z)): 0.26\n",
            "Epoch [89/500], d_loss: 0.6568, g_loss: 2.5102, D(x): 0.77, D(G(z)): 0.19\n",
            "Epoch [90/500], d_loss: 0.8857, g_loss: 2.0051, D(x): 0.75, D(G(z)): 0.30\n",
            "Epoch [91/500], d_loss: 0.7569, g_loss: 2.2085, D(x): 0.74, D(G(z)): 0.19\n",
            "Epoch [92/500], d_loss: 0.8040, g_loss: 2.1386, D(x): 0.72, D(G(z)): 0.24\n",
            "Epoch [93/500], d_loss: 0.7546, g_loss: 2.0626, D(x): 0.77, D(G(z)): 0.27\n",
            "Epoch [94/500], d_loss: 1.0153, g_loss: 1.7780, D(x): 0.76, D(G(z)): 0.37\n",
            "Epoch [95/500], d_loss: 0.8437, g_loss: 1.8822, D(x): 0.78, D(G(z)): 0.28\n",
            "Epoch [96/500], d_loss: 1.0026, g_loss: 1.9388, D(x): 0.66, D(G(z)): 0.23\n",
            "Epoch [97/500], d_loss: 0.9106, g_loss: 1.9492, D(x): 0.69, D(G(z)): 0.25\n",
            "Epoch [98/500], d_loss: 0.6287, g_loss: 2.7013, D(x): 0.75, D(G(z)): 0.16\n",
            "Epoch [99/500], d_loss: 0.8662, g_loss: 1.9576, D(x): 0.74, D(G(z)): 0.26\n",
            "Epoch [100/500], d_loss: 0.9417, g_loss: 1.8466, D(x): 0.63, D(G(z)): 0.21\n",
            "Epoch [101/500], d_loss: 0.7149, g_loss: 1.7667, D(x): 0.80, D(G(z)): 0.28\n",
            "Epoch [102/500], d_loss: 1.0050, g_loss: 1.9384, D(x): 0.74, D(G(z)): 0.31\n",
            "Epoch [103/500], d_loss: 0.9502, g_loss: 1.6491, D(x): 0.73, D(G(z)): 0.31\n",
            "Epoch [104/500], d_loss: 0.9387, g_loss: 1.8122, D(x): 0.72, D(G(z)): 0.30\n",
            "Epoch [105/500], d_loss: 0.8544, g_loss: 1.7241, D(x): 0.69, D(G(z)): 0.24\n",
            "Epoch [106/500], d_loss: 0.7105, g_loss: 1.6958, D(x): 0.78, D(G(z)): 0.28\n",
            "Epoch [107/500], d_loss: 1.0621, g_loss: 1.5745, D(x): 0.75, D(G(z)): 0.37\n",
            "Epoch [108/500], d_loss: 0.7368, g_loss: 1.9059, D(x): 0.73, D(G(z)): 0.24\n",
            "Epoch [109/500], d_loss: 0.8600, g_loss: 1.8539, D(x): 0.71, D(G(z)): 0.27\n",
            "Epoch [110/500], d_loss: 0.8231, g_loss: 2.0144, D(x): 0.68, D(G(z)): 0.21\n",
            "Epoch [111/500], d_loss: 0.8674, g_loss: 1.7771, D(x): 0.79, D(G(z)): 0.33\n",
            "Epoch [112/500], d_loss: 1.1614, g_loss: 1.5526, D(x): 0.67, D(G(z)): 0.34\n",
            "Epoch [113/500], d_loss: 0.8764, g_loss: 1.6937, D(x): 0.72, D(G(z)): 0.29\n",
            "Epoch [114/500], d_loss: 0.7785, g_loss: 2.1806, D(x): 0.69, D(G(z)): 0.20\n",
            "Epoch [115/500], d_loss: 0.9216, g_loss: 1.8738, D(x): 0.66, D(G(z)): 0.23\n",
            "Epoch [116/500], d_loss: 0.6584, g_loss: 1.9853, D(x): 0.79, D(G(z)): 0.24\n",
            "Epoch [117/500], d_loss: 0.7891, g_loss: 2.0188, D(x): 0.72, D(G(z)): 0.24\n",
            "Epoch [118/500], d_loss: 0.9682, g_loss: 1.7639, D(x): 0.70, D(G(z)): 0.30\n",
            "Epoch [119/500], d_loss: 0.8204, g_loss: 2.1457, D(x): 0.80, D(G(z)): 0.31\n",
            "Epoch [120/500], d_loss: 0.7705, g_loss: 2.1171, D(x): 0.80, D(G(z)): 0.29\n",
            "Epoch [121/500], d_loss: 0.9337, g_loss: 1.3523, D(x): 0.71, D(G(z)): 0.33\n",
            "Epoch [122/500], d_loss: 0.8202, g_loss: 1.8446, D(x): 0.80, D(G(z)): 0.34\n",
            "Epoch [123/500], d_loss: 0.6817, g_loss: 1.7328, D(x): 0.82, D(G(z)): 0.30\n",
            "Epoch [124/500], d_loss: 0.8560, g_loss: 2.4168, D(x): 0.70, D(G(z)): 0.22\n",
            "Epoch [125/500], d_loss: 0.8945, g_loss: 1.8676, D(x): 0.73, D(G(z)): 0.29\n",
            "Epoch [126/500], d_loss: 0.6924, g_loss: 2.1623, D(x): 0.72, D(G(z)): 0.18\n",
            "Epoch [127/500], d_loss: 0.9324, g_loss: 1.6046, D(x): 0.71, D(G(z)): 0.29\n",
            "Epoch [128/500], d_loss: 1.0344, g_loss: 1.2691, D(x): 0.67, D(G(z)): 0.35\n",
            "Epoch [129/500], d_loss: 0.8142, g_loss: 1.6559, D(x): 0.74, D(G(z)): 0.28\n",
            "Epoch [130/500], d_loss: 0.7305, g_loss: 1.7358, D(x): 0.78, D(G(z)): 0.27\n",
            "Epoch [131/500], d_loss: 0.8246, g_loss: 1.8927, D(x): 0.71, D(G(z)): 0.27\n",
            "Epoch [132/500], d_loss: 0.8598, g_loss: 1.9388, D(x): 0.74, D(G(z)): 0.26\n",
            "Epoch [133/500], d_loss: 0.7696, g_loss: 1.7926, D(x): 0.80, D(G(z)): 0.31\n",
            "Epoch [134/500], d_loss: 0.6342, g_loss: 2.1888, D(x): 0.78, D(G(z)): 0.23\n",
            "Epoch [135/500], d_loss: 0.8185, g_loss: 2.2280, D(x): 0.66, D(G(z)): 0.17\n",
            "Epoch [136/500], d_loss: 0.7586, g_loss: 1.5968, D(x): 0.79, D(G(z)): 0.32\n",
            "Epoch [137/500], d_loss: 1.0538, g_loss: 1.5367, D(x): 0.68, D(G(z)): 0.33\n",
            "Epoch [138/500], d_loss: 0.8301, g_loss: 1.6086, D(x): 0.75, D(G(z)): 0.32\n",
            "Epoch [139/500], d_loss: 0.9973, g_loss: 1.3366, D(x): 0.72, D(G(z)): 0.33\n",
            "Epoch [140/500], d_loss: 0.7527, g_loss: 1.6996, D(x): 0.72, D(G(z)): 0.20\n",
            "Epoch [141/500], d_loss: 0.9611, g_loss: 1.8768, D(x): 0.64, D(G(z)): 0.23\n",
            "Epoch [142/500], d_loss: 1.0140, g_loss: 1.4699, D(x): 0.66, D(G(z)): 0.30\n",
            "Epoch [143/500], d_loss: 0.8372, g_loss: 1.7198, D(x): 0.74, D(G(z)): 0.31\n",
            "Epoch [144/500], d_loss: 0.8254, g_loss: 1.5671, D(x): 0.73, D(G(z)): 0.31\n",
            "Epoch [145/500], d_loss: 0.6696, g_loss: 1.7692, D(x): 0.74, D(G(z)): 0.24\n",
            "Epoch [146/500], d_loss: 1.0248, g_loss: 1.5305, D(x): 0.71, D(G(z)): 0.34\n",
            "Epoch [147/500], d_loss: 1.1588, g_loss: 1.7039, D(x): 0.63, D(G(z)): 0.32\n",
            "Epoch [148/500], d_loss: 0.9159, g_loss: 1.6960, D(x): 0.70, D(G(z)): 0.29\n",
            "Epoch [149/500], d_loss: 0.8926, g_loss: 1.3803, D(x): 0.76, D(G(z)): 0.36\n",
            "Epoch [150/500], d_loss: 0.8008, g_loss: 1.9213, D(x): 0.74, D(G(z)): 0.28\n",
            "Epoch [151/500], d_loss: 0.9931, g_loss: 1.7934, D(x): 0.67, D(G(z)): 0.28\n",
            "Epoch [152/500], d_loss: 0.9798, g_loss: 1.2668, D(x): 0.73, D(G(z)): 0.40\n",
            "Epoch [153/500], d_loss: 0.8755, g_loss: 1.5108, D(x): 0.73, D(G(z)): 0.32\n",
            "Epoch [154/500], d_loss: 0.7167, g_loss: 1.4755, D(x): 0.81, D(G(z)): 0.31\n",
            "Epoch [155/500], d_loss: 0.8862, g_loss: 1.7099, D(x): 0.70, D(G(z)): 0.31\n",
            "Epoch [156/500], d_loss: 0.9539, g_loss: 1.5451, D(x): 0.72, D(G(z)): 0.34\n",
            "Epoch [157/500], d_loss: 0.9350, g_loss: 1.9502, D(x): 0.68, D(G(z)): 0.25\n",
            "Epoch [158/500], d_loss: 1.0223, g_loss: 1.5471, D(x): 0.70, D(G(z)): 0.36\n",
            "Epoch [159/500], d_loss: 0.8488, g_loss: 1.7073, D(x): 0.73, D(G(z)): 0.30\n",
            "Epoch [160/500], d_loss: 1.0889, g_loss: 1.4901, D(x): 0.69, D(G(z)): 0.37\n",
            "Epoch [161/500], d_loss: 1.1766, g_loss: 1.5650, D(x): 0.61, D(G(z)): 0.34\n",
            "Epoch [162/500], d_loss: 0.9150, g_loss: 1.2924, D(x): 0.73, D(G(z)): 0.36\n",
            "Epoch [163/500], d_loss: 0.9373, g_loss: 1.4312, D(x): 0.74, D(G(z)): 0.36\n",
            "Epoch [164/500], d_loss: 0.8960, g_loss: 1.3547, D(x): 0.76, D(G(z)): 0.37\n",
            "Epoch [165/500], d_loss: 0.6747, g_loss: 2.1263, D(x): 0.80, D(G(z)): 0.26\n",
            "Epoch [166/500], d_loss: 0.9769, g_loss: 1.2980, D(x): 0.70, D(G(z)): 0.35\n",
            "Epoch [167/500], d_loss: 1.1038, g_loss: 1.6245, D(x): 0.63, D(G(z)): 0.30\n",
            "Epoch [168/500], d_loss: 1.0836, g_loss: 1.6377, D(x): 0.60, D(G(z)): 0.28\n",
            "Epoch [169/500], d_loss: 0.9909, g_loss: 1.2541, D(x): 0.71, D(G(z)): 0.37\n",
            "Epoch [170/500], d_loss: 0.9331, g_loss: 1.4661, D(x): 0.75, D(G(z)): 0.39\n",
            "Epoch [171/500], d_loss: 0.9446, g_loss: 1.4678, D(x): 0.73, D(G(z)): 0.35\n",
            "Epoch [172/500], d_loss: 1.0279, g_loss: 1.3501, D(x): 0.73, D(G(z)): 0.36\n",
            "Epoch [173/500], d_loss: 1.0382, g_loss: 1.4335, D(x): 0.62, D(G(z)): 0.29\n",
            "Epoch [174/500], d_loss: 0.9470, g_loss: 1.2536, D(x): 0.71, D(G(z)): 0.37\n",
            "Epoch [175/500], d_loss: 0.8966, g_loss: 1.3269, D(x): 0.71, D(G(z)): 0.33\n",
            "Epoch [176/500], d_loss: 0.8823, g_loss: 1.5862, D(x): 0.68, D(G(z)): 0.26\n",
            "Epoch [177/500], d_loss: 0.9058, g_loss: 1.8881, D(x): 0.66, D(G(z)): 0.23\n",
            "Epoch [178/500], d_loss: 1.1888, g_loss: 1.5317, D(x): 0.59, D(G(z)): 0.31\n",
            "Epoch [179/500], d_loss: 0.8282, g_loss: 1.4262, D(x): 0.74, D(G(z)): 0.32\n",
            "Epoch [180/500], d_loss: 0.9896, g_loss: 1.4790, D(x): 0.65, D(G(z)): 0.32\n",
            "Epoch [181/500], d_loss: 0.9498, g_loss: 1.4266, D(x): 0.61, D(G(z)): 0.28\n",
            "Epoch [182/500], d_loss: 0.7981, g_loss: 1.4382, D(x): 0.75, D(G(z)): 0.32\n",
            "Epoch [183/500], d_loss: 0.9416, g_loss: 1.4690, D(x): 0.74, D(G(z)): 0.33\n",
            "Epoch [184/500], d_loss: 0.9634, g_loss: 1.5123, D(x): 0.69, D(G(z)): 0.34\n",
            "Epoch [185/500], d_loss: 0.9324, g_loss: 1.4005, D(x): 0.73, D(G(z)): 0.33\n",
            "Epoch [186/500], d_loss: 0.9410, g_loss: 1.6268, D(x): 0.67, D(G(z)): 0.29\n",
            "Epoch [187/500], d_loss: 1.2366, g_loss: 1.3999, D(x): 0.62, D(G(z)): 0.32\n",
            "Epoch [188/500], d_loss: 0.7837, g_loss: 1.6026, D(x): 0.72, D(G(z)): 0.28\n",
            "Epoch [189/500], d_loss: 1.0054, g_loss: 1.5443, D(x): 0.70, D(G(z)): 0.35\n",
            "Epoch [190/500], d_loss: 0.9300, g_loss: 1.3605, D(x): 0.70, D(G(z)): 0.31\n",
            "Epoch [191/500], d_loss: 1.1851, g_loss: 1.2726, D(x): 0.63, D(G(z)): 0.35\n",
            "Epoch [192/500], d_loss: 0.9699, g_loss: 1.2895, D(x): 0.68, D(G(z)): 0.33\n",
            "Epoch [193/500], d_loss: 0.8312, g_loss: 1.6021, D(x): 0.78, D(G(z)): 0.33\n",
            "Epoch [194/500], d_loss: 0.9666, g_loss: 1.2729, D(x): 0.77, D(G(z)): 0.42\n",
            "Epoch [195/500], d_loss: 1.0437, g_loss: 1.5665, D(x): 0.68, D(G(z)): 0.33\n",
            "Epoch [196/500], d_loss: 0.9667, g_loss: 1.5013, D(x): 0.63, D(G(z)): 0.30\n",
            "Epoch [197/500], d_loss: 1.0322, g_loss: 1.2869, D(x): 0.70, D(G(z)): 0.39\n",
            "Epoch [198/500], d_loss: 1.2975, g_loss: 1.4786, D(x): 0.60, D(G(z)): 0.37\n",
            "Epoch [199/500], d_loss: 1.0939, g_loss: 1.2152, D(x): 0.68, D(G(z)): 0.40\n",
            "Epoch [200/500], d_loss: 1.1938, g_loss: 1.4336, D(x): 0.59, D(G(z)): 0.32\n",
            "Epoch [201/500], d_loss: 1.0309, g_loss: 1.5121, D(x): 0.65, D(G(z)): 0.31\n",
            "Epoch [202/500], d_loss: 1.0926, g_loss: 1.2800, D(x): 0.68, D(G(z)): 0.40\n",
            "Epoch [203/500], d_loss: 0.8958, g_loss: 1.3634, D(x): 0.73, D(G(z)): 0.34\n",
            "Epoch [204/500], d_loss: 0.9909, g_loss: 1.6550, D(x): 0.68, D(G(z)): 0.31\n",
            "Epoch [205/500], d_loss: 0.8971, g_loss: 1.3890, D(x): 0.77, D(G(z)): 0.36\n",
            "Epoch [206/500], d_loss: 0.8976, g_loss: 1.5176, D(x): 0.69, D(G(z)): 0.30\n",
            "Epoch [207/500], d_loss: 0.8827, g_loss: 1.5707, D(x): 0.67, D(G(z)): 0.27\n",
            "Epoch [208/500], d_loss: 1.0150, g_loss: 1.2883, D(x): 0.66, D(G(z)): 0.35\n",
            "Epoch [209/500], d_loss: 1.0129, g_loss: 1.7004, D(x): 0.61, D(G(z)): 0.25\n",
            "Epoch [210/500], d_loss: 0.7850, g_loss: 1.7789, D(x): 0.73, D(G(z)): 0.29\n",
            "Epoch [211/500], d_loss: 1.4568, g_loss: 1.0846, D(x): 0.59, D(G(z)): 0.44\n",
            "Epoch [212/500], d_loss: 0.8207, g_loss: 1.8831, D(x): 0.71, D(G(z)): 0.27\n",
            "Epoch [213/500], d_loss: 1.0395, g_loss: 1.3217, D(x): 0.72, D(G(z)): 0.39\n",
            "Epoch [214/500], d_loss: 1.0298, g_loss: 1.4735, D(x): 0.67, D(G(z)): 0.34\n",
            "Epoch [215/500], d_loss: 1.0303, g_loss: 1.4567, D(x): 0.68, D(G(z)): 0.35\n",
            "Epoch [216/500], d_loss: 0.9758, g_loss: 1.5866, D(x): 0.63, D(G(z)): 0.27\n",
            "Epoch [217/500], d_loss: 0.7062, g_loss: 1.8405, D(x): 0.75, D(G(z)): 0.25\n",
            "Epoch [218/500], d_loss: 0.9899, g_loss: 1.5425, D(x): 0.66, D(G(z)): 0.30\n",
            "Epoch [219/500], d_loss: 1.0093, g_loss: 1.3485, D(x): 0.68, D(G(z)): 0.34\n",
            "Epoch [220/500], d_loss: 0.9865, g_loss: 1.2818, D(x): 0.65, D(G(z)): 0.32\n",
            "Epoch [221/500], d_loss: 0.9803, g_loss: 1.5003, D(x): 0.66, D(G(z)): 0.32\n",
            "Epoch [222/500], d_loss: 1.1837, g_loss: 1.1625, D(x): 0.67, D(G(z)): 0.41\n",
            "Epoch [223/500], d_loss: 0.9182, g_loss: 1.7954, D(x): 0.68, D(G(z)): 0.27\n",
            "Epoch [224/500], d_loss: 0.8442, g_loss: 1.5278, D(x): 0.72, D(G(z)): 0.30\n",
            "Epoch [225/500], d_loss: 0.8655, g_loss: 1.7255, D(x): 0.70, D(G(z)): 0.29\n",
            "Epoch [226/500], d_loss: 1.0728, g_loss: 1.5969, D(x): 0.65, D(G(z)): 0.32\n",
            "Epoch [227/500], d_loss: 0.9410, g_loss: 1.4720, D(x): 0.67, D(G(z)): 0.31\n",
            "Epoch [228/500], d_loss: 0.8203, g_loss: 1.2472, D(x): 0.75, D(G(z)): 0.34\n",
            "Epoch [229/500], d_loss: 0.9756, g_loss: 1.2646, D(x): 0.69, D(G(z)): 0.35\n",
            "Epoch [230/500], d_loss: 0.9452, g_loss: 1.4048, D(x): 0.73, D(G(z)): 0.35\n",
            "Epoch [231/500], d_loss: 1.1643, g_loss: 1.2316, D(x): 0.65, D(G(z)): 0.39\n",
            "Epoch [232/500], d_loss: 1.4136, g_loss: 1.0633, D(x): 0.65, D(G(z)): 0.45\n",
            "Epoch [233/500], d_loss: 1.2030, g_loss: 1.2560, D(x): 0.57, D(G(z)): 0.35\n",
            "Epoch [234/500], d_loss: 0.9319, g_loss: 1.4835, D(x): 0.65, D(G(z)): 0.31\n",
            "Epoch [235/500], d_loss: 1.0037, g_loss: 1.1782, D(x): 0.68, D(G(z)): 0.36\n",
            "Epoch [236/500], d_loss: 0.9914, g_loss: 1.7208, D(x): 0.64, D(G(z)): 0.29\n",
            "Epoch [237/500], d_loss: 1.0617, g_loss: 1.3395, D(x): 0.67, D(G(z)): 0.35\n",
            "Epoch [238/500], d_loss: 0.7342, g_loss: 1.6082, D(x): 0.75, D(G(z)): 0.28\n",
            "Epoch [239/500], d_loss: 0.9932, g_loss: 1.6115, D(x): 0.60, D(G(z)): 0.26\n",
            "Epoch [240/500], d_loss: 0.9111, g_loss: 1.4706, D(x): 0.68, D(G(z)): 0.30\n",
            "Epoch [241/500], d_loss: 0.7572, g_loss: 1.6237, D(x): 0.75, D(G(z)): 0.30\n",
            "Epoch [242/500], d_loss: 0.8475, g_loss: 1.5146, D(x): 0.74, D(G(z)): 0.33\n",
            "Epoch [243/500], d_loss: 1.1423, g_loss: 1.0085, D(x): 0.70, D(G(z)): 0.45\n",
            "Epoch [244/500], d_loss: 1.0076, g_loss: 1.3489, D(x): 0.64, D(G(z)): 0.31\n",
            "Epoch [245/500], d_loss: 1.2349, g_loss: 1.1093, D(x): 0.57, D(G(z)): 0.38\n",
            "Epoch [246/500], d_loss: 1.3108, g_loss: 1.2868, D(x): 0.56, D(G(z)): 0.33\n",
            "Epoch [247/500], d_loss: 0.9729, g_loss: 1.2852, D(x): 0.70, D(G(z)): 0.37\n",
            "Epoch [248/500], d_loss: 1.3679, g_loss: 1.1852, D(x): 0.57, D(G(z)): 0.40\n",
            "Epoch [249/500], d_loss: 1.0009, g_loss: 1.4181, D(x): 0.62, D(G(z)): 0.29\n",
            "Epoch [250/500], d_loss: 0.9678, g_loss: 1.2708, D(x): 0.68, D(G(z)): 0.34\n",
            "Epoch [251/500], d_loss: 0.8749, g_loss: 1.3578, D(x): 0.72, D(G(z)): 0.33\n",
            "Epoch [252/500], d_loss: 0.9773, g_loss: 1.3161, D(x): 0.73, D(G(z)): 0.39\n",
            "Epoch [253/500], d_loss: 0.8880, g_loss: 1.7806, D(x): 0.65, D(G(z)): 0.24\n",
            "Epoch [254/500], d_loss: 1.0431, g_loss: 1.1850, D(x): 0.72, D(G(z)): 0.39\n",
            "Epoch [255/500], d_loss: 1.0570, g_loss: 1.2437, D(x): 0.64, D(G(z)): 0.33\n",
            "Epoch [256/500], d_loss: 1.2348, g_loss: 1.3578, D(x): 0.61, D(G(z)): 0.38\n",
            "Epoch [257/500], d_loss: 1.1247, g_loss: 1.1944, D(x): 0.69, D(G(z)): 0.42\n",
            "Epoch [258/500], d_loss: 0.9513, g_loss: 1.4277, D(x): 0.68, D(G(z)): 0.31\n",
            "Epoch [259/500], d_loss: 1.1818, g_loss: 1.3110, D(x): 0.62, D(G(z)): 0.37\n",
            "Epoch [260/500], d_loss: 1.2021, g_loss: 1.1991, D(x): 0.57, D(G(z)): 0.35\n",
            "Epoch [261/500], d_loss: 0.8048, g_loss: 1.7574, D(x): 0.69, D(G(z)): 0.25\n",
            "Epoch [262/500], d_loss: 1.1237, g_loss: 1.2646, D(x): 0.65, D(G(z)): 0.37\n",
            "Epoch [263/500], d_loss: 1.2078, g_loss: 1.0973, D(x): 0.63, D(G(z)): 0.41\n",
            "Epoch [264/500], d_loss: 0.8521, g_loss: 1.5129, D(x): 0.66, D(G(z)): 0.26\n",
            "Epoch [265/500], d_loss: 0.7280, g_loss: 1.7376, D(x): 0.73, D(G(z)): 0.25\n",
            "Epoch [266/500], d_loss: 1.3818, g_loss: 1.1540, D(x): 0.54, D(G(z)): 0.40\n",
            "Epoch [267/500], d_loss: 1.0231, g_loss: 1.2897, D(x): 0.64, D(G(z)): 0.33\n",
            "Epoch [268/500], d_loss: 1.3036, g_loss: 1.1979, D(x): 0.57, D(G(z)): 0.38\n",
            "Epoch [269/500], d_loss: 1.0261, g_loss: 1.2029, D(x): 0.69, D(G(z)): 0.40\n",
            "Epoch [270/500], d_loss: 0.9144, g_loss: 1.4225, D(x): 0.68, D(G(z)): 0.31\n",
            "Epoch [271/500], d_loss: 0.9676, g_loss: 1.4502, D(x): 0.70, D(G(z)): 0.36\n",
            "Epoch [272/500], d_loss: 1.1743, g_loss: 1.1649, D(x): 0.64, D(G(z)): 0.41\n",
            "Epoch [273/500], d_loss: 0.7647, g_loss: 1.5441, D(x): 0.73, D(G(z)): 0.28\n",
            "Epoch [274/500], d_loss: 1.1269, g_loss: 1.5054, D(x): 0.60, D(G(z)): 0.31\n",
            "Epoch [275/500], d_loss: 1.1881, g_loss: 1.4272, D(x): 0.61, D(G(z)): 0.35\n",
            "Epoch [276/500], d_loss: 1.0741, g_loss: 1.0885, D(x): 0.66, D(G(z)): 0.40\n",
            "Epoch [277/500], d_loss: 1.2604, g_loss: 0.9452, D(x): 0.64, D(G(z)): 0.45\n",
            "Epoch [278/500], d_loss: 0.7318, g_loss: 1.7678, D(x): 0.69, D(G(z)): 0.22\n",
            "Epoch [279/500], d_loss: 1.1091, g_loss: 1.3989, D(x): 0.70, D(G(z)): 0.37\n",
            "Epoch [280/500], d_loss: 0.9683, g_loss: 1.6311, D(x): 0.71, D(G(z)): 0.33\n",
            "Epoch [281/500], d_loss: 0.8937, g_loss: 1.5311, D(x): 0.66, D(G(z)): 0.27\n",
            "Epoch [282/500], d_loss: 0.9657, g_loss: 1.6377, D(x): 0.63, D(G(z)): 0.28\n",
            "Epoch [283/500], d_loss: 1.0181, g_loss: 1.5859, D(x): 0.63, D(G(z)): 0.30\n",
            "Epoch [284/500], d_loss: 0.8960, g_loss: 1.4317, D(x): 0.68, D(G(z)): 0.32\n",
            "Epoch [285/500], d_loss: 0.8673, g_loss: 1.6147, D(x): 0.73, D(G(z)): 0.30\n",
            "Epoch [286/500], d_loss: 1.1731, g_loss: 1.3020, D(x): 0.61, D(G(z)): 0.37\n",
            "Epoch [287/500], d_loss: 1.4074, g_loss: 1.1269, D(x): 0.54, D(G(z)): 0.39\n",
            "Epoch [288/500], d_loss: 1.3766, g_loss: 1.0461, D(x): 0.57, D(G(z)): 0.42\n",
            "Epoch [289/500], d_loss: 1.1308, g_loss: 1.1602, D(x): 0.68, D(G(z)): 0.43\n",
            "Epoch [290/500], d_loss: 1.0125, g_loss: 1.2661, D(x): 0.68, D(G(z)): 0.37\n",
            "Epoch [291/500], d_loss: 1.5069, g_loss: 1.1568, D(x): 0.55, D(G(z)): 0.42\n",
            "Epoch [292/500], d_loss: 0.7179, g_loss: 1.7958, D(x): 0.73, D(G(z)): 0.26\n",
            "Epoch [293/500], d_loss: 0.8577, g_loss: 1.5314, D(x): 0.68, D(G(z)): 0.29\n",
            "Epoch [294/500], d_loss: 1.2211, g_loss: 1.2718, D(x): 0.58, D(G(z)): 0.37\n",
            "Epoch [295/500], d_loss: 1.1821, g_loss: 1.2079, D(x): 0.58, D(G(z)): 0.36\n",
            "Epoch [296/500], d_loss: 1.1014, g_loss: 1.3697, D(x): 0.60, D(G(z)): 0.32\n",
            "Epoch [297/500], d_loss: 0.9130, g_loss: 1.3766, D(x): 0.71, D(G(z)): 0.35\n",
            "Epoch [298/500], d_loss: 1.0755, g_loss: 1.5106, D(x): 0.69, D(G(z)): 0.36\n",
            "Epoch [299/500], d_loss: 0.9513, g_loss: 1.3042, D(x): 0.69, D(G(z)): 0.34\n",
            "Epoch [300/500], d_loss: 1.0216, g_loss: 1.3175, D(x): 0.68, D(G(z)): 0.36\n",
            "Epoch [301/500], d_loss: 1.4340, g_loss: 1.0741, D(x): 0.52, D(G(z)): 0.42\n",
            "Epoch [302/500], d_loss: 1.0664, g_loss: 1.4076, D(x): 0.61, D(G(z)): 0.32\n",
            "Epoch [303/500], d_loss: 0.8335, g_loss: 1.5482, D(x): 0.72, D(G(z)): 0.31\n",
            "Epoch [304/500], d_loss: 1.1709, g_loss: 1.1747, D(x): 0.63, D(G(z)): 0.39\n",
            "Epoch [305/500], d_loss: 1.3866, g_loss: 1.0767, D(x): 0.57, D(G(z)): 0.42\n",
            "Epoch [306/500], d_loss: 1.1702, g_loss: 1.3031, D(x): 0.58, D(G(z)): 0.35\n",
            "Epoch [307/500], d_loss: 0.7486, g_loss: 1.3292, D(x): 0.80, D(G(z)): 0.35\n",
            "Epoch [308/500], d_loss: 1.3076, g_loss: 0.9678, D(x): 0.60, D(G(z)): 0.42\n",
            "Epoch [309/500], d_loss: 1.2330, g_loss: 1.0852, D(x): 0.66, D(G(z)): 0.45\n",
            "Epoch [310/500], d_loss: 0.9761, g_loss: 1.3742, D(x): 0.72, D(G(z)): 0.37\n",
            "Epoch [311/500], d_loss: 0.8961, g_loss: 1.3853, D(x): 0.73, D(G(z)): 0.37\n",
            "Epoch [312/500], d_loss: 1.0022, g_loss: 1.3079, D(x): 0.63, D(G(z)): 0.34\n",
            "Epoch [313/500], d_loss: 1.4770, g_loss: 1.0879, D(x): 0.50, D(G(z)): 0.41\n",
            "Epoch [314/500], d_loss: 0.9329, g_loss: 1.5625, D(x): 0.70, D(G(z)): 0.33\n",
            "Epoch [315/500], d_loss: 1.0958, g_loss: 1.3532, D(x): 0.60, D(G(z)): 0.33\n",
            "Epoch [316/500], d_loss: 1.0259, g_loss: 1.3381, D(x): 0.63, D(G(z)): 0.32\n",
            "Epoch [317/500], d_loss: 1.4261, g_loss: 0.9713, D(x): 0.57, D(G(z)): 0.45\n",
            "Epoch [318/500], d_loss: 1.4267, g_loss: 1.0669, D(x): 0.58, D(G(z)): 0.44\n",
            "Epoch [319/500], d_loss: 1.1569, g_loss: 1.2582, D(x): 0.63, D(G(z)): 0.37\n",
            "Epoch [320/500], d_loss: 1.1834, g_loss: 1.3767, D(x): 0.59, D(G(z)): 0.34\n",
            "Epoch [321/500], d_loss: 1.4110, g_loss: 1.0635, D(x): 0.64, D(G(z)): 0.47\n",
            "Epoch [322/500], d_loss: 1.1464, g_loss: 1.0896, D(x): 0.63, D(G(z)): 0.39\n",
            "Epoch [323/500], d_loss: 0.9170, g_loss: 1.4418, D(x): 0.68, D(G(z)): 0.31\n",
            "Epoch [324/500], d_loss: 0.9366, g_loss: 1.3563, D(x): 0.68, D(G(z)): 0.33\n",
            "Epoch [325/500], d_loss: 1.4416, g_loss: 1.1152, D(x): 0.63, D(G(z)): 0.49\n",
            "Epoch [326/500], d_loss: 1.1640, g_loss: 1.2081, D(x): 0.61, D(G(z)): 0.36\n",
            "Epoch [327/500], d_loss: 0.8264, g_loss: 1.4593, D(x): 0.69, D(G(z)): 0.29\n",
            "Epoch [328/500], d_loss: 0.8708, g_loss: 1.4209, D(x): 0.72, D(G(z)): 0.33\n",
            "Epoch [329/500], d_loss: 1.4574, g_loss: 1.1847, D(x): 0.55, D(G(z)): 0.40\n",
            "Epoch [330/500], d_loss: 1.3193, g_loss: 1.0192, D(x): 0.57, D(G(z)): 0.42\n",
            "Epoch [331/500], d_loss: 0.9367, g_loss: 1.2012, D(x): 0.73, D(G(z)): 0.39\n",
            "Epoch [332/500], d_loss: 1.2854, g_loss: 1.3481, D(x): 0.56, D(G(z)): 0.35\n",
            "Epoch [333/500], d_loss: 1.2569, g_loss: 1.2275, D(x): 0.63, D(G(z)): 0.41\n",
            "Epoch [334/500], d_loss: 1.0723, g_loss: 1.1186, D(x): 0.66, D(G(z)): 0.39\n",
            "Epoch [335/500], d_loss: 1.0952, g_loss: 1.1559, D(x): 0.67, D(G(z)): 0.42\n",
            "Epoch [336/500], d_loss: 1.0509, g_loss: 1.1678, D(x): 0.67, D(G(z)): 0.38\n",
            "Epoch [337/500], d_loss: 0.9915, g_loss: 1.2880, D(x): 0.66, D(G(z)): 0.34\n",
            "Epoch [338/500], d_loss: 0.9651, g_loss: 1.4472, D(x): 0.63, D(G(z)): 0.30\n",
            "Epoch [339/500], d_loss: 0.8785, g_loss: 1.4493, D(x): 0.69, D(G(z)): 0.32\n",
            "Epoch [340/500], d_loss: 1.2224, g_loss: 1.5691, D(x): 0.55, D(G(z)): 0.30\n",
            "Epoch [341/500], d_loss: 1.4037, g_loss: 1.0830, D(x): 0.58, D(G(z)): 0.45\n",
            "Epoch [342/500], d_loss: 0.9430, g_loss: 1.4598, D(x): 0.67, D(G(z)): 0.31\n",
            "Epoch [343/500], d_loss: 0.8223, g_loss: 1.4585, D(x): 0.71, D(G(z)): 0.31\n",
            "Epoch [344/500], d_loss: 0.7854, g_loss: 1.6028, D(x): 0.74, D(G(z)): 0.29\n",
            "Epoch [345/500], d_loss: 0.9572, g_loss: 1.5424, D(x): 0.68, D(G(z)): 0.30\n",
            "Epoch [346/500], d_loss: 1.0596, g_loss: 1.1792, D(x): 0.67, D(G(z)): 0.37\n",
            "Epoch [347/500], d_loss: 1.0120, g_loss: 1.2103, D(x): 0.65, D(G(z)): 0.34\n",
            "Epoch [348/500], d_loss: 0.6961, g_loss: 1.7837, D(x): 0.71, D(G(z)): 0.23\n",
            "Epoch [349/500], d_loss: 0.7569, g_loss: 1.7192, D(x): 0.71, D(G(z)): 0.25\n",
            "Epoch [350/500], d_loss: 0.9198, g_loss: 1.4757, D(x): 0.70, D(G(z)): 0.32\n",
            "Epoch [351/500], d_loss: 0.6889, g_loss: 1.8730, D(x): 0.77, D(G(z)): 0.27\n",
            "Epoch [352/500], d_loss: 0.8220, g_loss: 1.6781, D(x): 0.68, D(G(z)): 0.27\n",
            "Epoch [353/500], d_loss: 1.1719, g_loss: 1.0969, D(x): 0.67, D(G(z)): 0.43\n",
            "Epoch [354/500], d_loss: 0.8594, g_loss: 1.4863, D(x): 0.70, D(G(z)): 0.31\n",
            "Epoch [355/500], d_loss: 0.9095, g_loss: 1.3572, D(x): 0.69, D(G(z)): 0.32\n",
            "Epoch [356/500], d_loss: 1.1263, g_loss: 1.2151, D(x): 0.64, D(G(z)): 0.38\n",
            "Epoch [357/500], d_loss: 1.1876, g_loss: 1.1454, D(x): 0.61, D(G(z)): 0.39\n",
            "Epoch [358/500], d_loss: 1.1576, g_loss: 1.2065, D(x): 0.63, D(G(z)): 0.38\n",
            "Epoch [359/500], d_loss: 0.9857, g_loss: 1.2006, D(x): 0.71, D(G(z)): 0.38\n",
            "Epoch [360/500], d_loss: 0.8480, g_loss: 1.4689, D(x): 0.69, D(G(z)): 0.31\n",
            "Epoch [361/500], d_loss: 1.1230, g_loss: 1.1064, D(x): 0.61, D(G(z)): 0.38\n",
            "Epoch [362/500], d_loss: 1.1043, g_loss: 1.1924, D(x): 0.66, D(G(z)): 0.39\n",
            "Epoch [363/500], d_loss: 1.0291, g_loss: 1.3801, D(x): 0.64, D(G(z)): 0.33\n",
            "Epoch [364/500], d_loss: 1.3014, g_loss: 0.9283, D(x): 0.67, D(G(z)): 0.49\n",
            "Epoch [365/500], d_loss: 0.8324, g_loss: 1.4485, D(x): 0.74, D(G(z)): 0.34\n",
            "Epoch [366/500], d_loss: 0.7704, g_loss: 1.5312, D(x): 0.73, D(G(z)): 0.28\n",
            "Epoch [367/500], d_loss: 0.9798, g_loss: 1.4750, D(x): 0.62, D(G(z)): 0.28\n",
            "Epoch [368/500], d_loss: 0.7245, g_loss: 1.7136, D(x): 0.74, D(G(z)): 0.26\n",
            "Epoch [369/500], d_loss: 1.0522, g_loss: 1.2608, D(x): 0.65, D(G(z)): 0.35\n",
            "Epoch [370/500], d_loss: 0.7312, g_loss: 1.7927, D(x): 0.71, D(G(z)): 0.23\n",
            "Epoch [371/500], d_loss: 0.7397, g_loss: 1.6236, D(x): 0.72, D(G(z)): 0.26\n",
            "Epoch [372/500], d_loss: 1.1121, g_loss: 1.2213, D(x): 0.64, D(G(z)): 0.38\n",
            "Epoch [373/500], d_loss: 1.3307, g_loss: 1.1135, D(x): 0.59, D(G(z)): 0.41\n",
            "Epoch [374/500], d_loss: 0.7749, g_loss: 1.7965, D(x): 0.73, D(G(z)): 0.25\n",
            "Epoch [375/500], d_loss: 0.9676, g_loss: 1.4353, D(x): 0.70, D(G(z)): 0.34\n",
            "Epoch [376/500], d_loss: 0.9061, g_loss: 1.5130, D(x): 0.69, D(G(z)): 0.33\n",
            "Epoch [377/500], d_loss: 0.8243, g_loss: 1.4493, D(x): 0.77, D(G(z)): 0.34\n",
            "Epoch [378/500], d_loss: 0.8568, g_loss: 1.3702, D(x): 0.69, D(G(z)): 0.32\n",
            "Epoch [379/500], d_loss: 1.0162, g_loss: 1.2771, D(x): 0.70, D(G(z)): 0.37\n",
            "Epoch [380/500], d_loss: 0.7775, g_loss: 1.6077, D(x): 0.71, D(G(z)): 0.27\n",
            "Epoch [381/500], d_loss: 1.2990, g_loss: 1.2109, D(x): 0.55, D(G(z)): 0.36\n",
            "Epoch [382/500], d_loss: 1.0715, g_loss: 1.4825, D(x): 0.64, D(G(z)): 0.32\n",
            "Epoch [383/500], d_loss: 0.7675, g_loss: 1.7224, D(x): 0.71, D(G(z)): 0.27\n",
            "Epoch [384/500], d_loss: 1.1038, g_loss: 1.3430, D(x): 0.61, D(G(z)): 0.35\n",
            "Epoch [385/500], d_loss: 0.8659, g_loss: 1.5110, D(x): 0.66, D(G(z)): 0.29\n",
            "Epoch [386/500], d_loss: 0.8906, g_loss: 1.5235, D(x): 0.68, D(G(z)): 0.31\n",
            "Epoch [387/500], d_loss: 1.0478, g_loss: 1.4443, D(x): 0.64, D(G(z)): 0.33\n",
            "Epoch [388/500], d_loss: 1.1118, g_loss: 1.2293, D(x): 0.67, D(G(z)): 0.39\n",
            "Epoch [389/500], d_loss: 0.8724, g_loss: 1.6517, D(x): 0.63, D(G(z)): 0.24\n",
            "Epoch [390/500], d_loss: 1.0224, g_loss: 1.3109, D(x): 0.68, D(G(z)): 0.36\n",
            "Epoch [391/500], d_loss: 1.0826, g_loss: 1.2770, D(x): 0.70, D(G(z)): 0.39\n",
            "Epoch [392/500], d_loss: 1.0045, g_loss: 1.2497, D(x): 0.69, D(G(z)): 0.37\n",
            "Epoch [393/500], d_loss: 1.2951, g_loss: 1.1603, D(x): 0.63, D(G(z)): 0.41\n",
            "Epoch [394/500], d_loss: 0.9190, g_loss: 1.7060, D(x): 0.68, D(G(z)): 0.28\n",
            "Epoch [395/500], d_loss: 0.9187, g_loss: 1.5600, D(x): 0.68, D(G(z)): 0.30\n",
            "Epoch [396/500], d_loss: 0.9096, g_loss: 1.4736, D(x): 0.71, D(G(z)): 0.33\n",
            "Epoch [397/500], d_loss: 1.2317, g_loss: 1.1622, D(x): 0.62, D(G(z)): 0.40\n",
            "Epoch [398/500], d_loss: 0.9494, g_loss: 1.5901, D(x): 0.65, D(G(z)): 0.29\n",
            "Epoch [399/500], d_loss: 1.5790, g_loss: 1.1930, D(x): 0.55, D(G(z)): 0.42\n",
            "Epoch [400/500], d_loss: 0.8578, g_loss: 1.5960, D(x): 0.70, D(G(z)): 0.30\n",
            "Epoch [401/500], d_loss: 0.6867, g_loss: 1.6658, D(x): 0.75, D(G(z)): 0.26\n",
            "Epoch [402/500], d_loss: 0.8393, g_loss: 1.4488, D(x): 0.71, D(G(z)): 0.32\n",
            "Epoch [403/500], d_loss: 1.2785, g_loss: 1.0706, D(x): 0.64, D(G(z)): 0.43\n",
            "Epoch [404/500], d_loss: 0.7587, g_loss: 1.6811, D(x): 0.70, D(G(z)): 0.24\n",
            "Epoch [405/500], d_loss: 0.9838, g_loss: 1.2347, D(x): 0.75, D(G(z)): 0.41\n",
            "Epoch [406/500], d_loss: 1.0400, g_loss: 1.3663, D(x): 0.68, D(G(z)): 0.35\n",
            "Epoch [407/500], d_loss: 0.9221, g_loss: 1.6195, D(x): 0.67, D(G(z)): 0.29\n",
            "Epoch [408/500], d_loss: 0.9461, g_loss: 1.3017, D(x): 0.67, D(G(z)): 0.34\n",
            "Epoch [409/500], d_loss: 1.3283, g_loss: 1.0868, D(x): 0.61, D(G(z)): 0.44\n",
            "Epoch [410/500], d_loss: 1.1286, g_loss: 1.4418, D(x): 0.58, D(G(z)): 0.30\n",
            "Epoch [411/500], d_loss: 0.6877, g_loss: 1.6571, D(x): 0.77, D(G(z)): 0.28\n",
            "Epoch [412/500], d_loss: 1.4910, g_loss: 1.0580, D(x): 0.51, D(G(z)): 0.42\n",
            "Epoch [413/500], d_loss: 0.9726, g_loss: 1.4212, D(x): 0.62, D(G(z)): 0.29\n",
            "Epoch [414/500], d_loss: 1.4226, g_loss: 1.0968, D(x): 0.58, D(G(z)): 0.43\n",
            "Epoch [415/500], d_loss: 0.8833, g_loss: 1.4631, D(x): 0.69, D(G(z)): 0.30\n",
            "Epoch [416/500], d_loss: 1.0018, g_loss: 1.2932, D(x): 0.67, D(G(z)): 0.35\n",
            "Epoch [417/500], d_loss: 1.1075, g_loss: 1.1582, D(x): 0.68, D(G(z)): 0.42\n",
            "Epoch [418/500], d_loss: 0.8744, g_loss: 1.6629, D(x): 0.71, D(G(z)): 0.30\n",
            "Epoch [419/500], d_loss: 1.2047, g_loss: 1.1782, D(x): 0.59, D(G(z)): 0.37\n",
            "Epoch [420/500], d_loss: 0.9157, g_loss: 1.3192, D(x): 0.69, D(G(z)): 0.32\n",
            "Epoch [421/500], d_loss: 0.7684, g_loss: 1.5062, D(x): 0.71, D(G(z)): 0.27\n",
            "Epoch [422/500], d_loss: 1.0580, g_loss: 1.4588, D(x): 0.68, D(G(z)): 0.35\n",
            "Epoch [423/500], d_loss: 1.3039, g_loss: 1.1033, D(x): 0.60, D(G(z)): 0.42\n",
            "Epoch [424/500], d_loss: 0.7783, g_loss: 1.6840, D(x): 0.74, D(G(z)): 0.29\n",
            "Epoch [425/500], d_loss: 1.2335, g_loss: 1.1242, D(x): 0.60, D(G(z)): 0.40\n",
            "Epoch [426/500], d_loss: 0.9292, g_loss: 1.4701, D(x): 0.67, D(G(z)): 0.29\n",
            "Epoch [427/500], d_loss: 1.0798, g_loss: 1.1561, D(x): 0.69, D(G(z)): 0.41\n",
            "Epoch [428/500], d_loss: 0.9169, g_loss: 1.3823, D(x): 0.71, D(G(z)): 0.33\n",
            "Epoch [429/500], d_loss: 1.0353, g_loss: 1.0767, D(x): 0.76, D(G(z)): 0.44\n",
            "Epoch [430/500], d_loss: 1.0467, g_loss: 1.2485, D(x): 0.70, D(G(z)): 0.38\n",
            "Epoch [431/500], d_loss: 0.9118, g_loss: 1.5474, D(x): 0.68, D(G(z)): 0.32\n",
            "Epoch [432/500], d_loss: 1.1983, g_loss: 1.2472, D(x): 0.60, D(G(z)): 0.37\n",
            "Epoch [433/500], d_loss: 0.8466, g_loss: 1.6348, D(x): 0.71, D(G(z)): 0.29\n",
            "Epoch [434/500], d_loss: 1.0297, g_loss: 1.3012, D(x): 0.66, D(G(z)): 0.34\n",
            "Epoch [435/500], d_loss: 1.0542, g_loss: 1.4970, D(x): 0.63, D(G(z)): 0.32\n",
            "Epoch [436/500], d_loss: 0.8067, g_loss: 1.6616, D(x): 0.73, D(G(z)): 0.28\n",
            "Epoch [437/500], d_loss: 0.9400, g_loss: 1.3889, D(x): 0.69, D(G(z)): 0.34\n",
            "Epoch [438/500], d_loss: 1.1439, g_loss: 1.5383, D(x): 0.58, D(G(z)): 0.30\n",
            "Epoch [439/500], d_loss: 0.8135, g_loss: 1.5653, D(x): 0.70, D(G(z)): 0.28\n",
            "Epoch [440/500], d_loss: 1.1327, g_loss: 1.2453, D(x): 0.63, D(G(z)): 0.36\n",
            "Epoch [441/500], d_loss: 1.0833, g_loss: 1.3779, D(x): 0.65, D(G(z)): 0.36\n",
            "Epoch [442/500], d_loss: 0.9343, g_loss: 1.4806, D(x): 0.68, D(G(z)): 0.30\n",
            "Epoch [443/500], d_loss: 1.0751, g_loss: 1.3340, D(x): 0.67, D(G(z)): 0.38\n",
            "Epoch [444/500], d_loss: 0.9601, g_loss: 1.4742, D(x): 0.67, D(G(z)): 0.31\n",
            "Epoch [445/500], d_loss: 0.8262, g_loss: 1.6141, D(x): 0.69, D(G(z)): 0.26\n",
            "Epoch [446/500], d_loss: 0.9789, g_loss: 1.3123, D(x): 0.71, D(G(z)): 0.36\n",
            "Epoch [447/500], d_loss: 1.2164, g_loss: 1.2115, D(x): 0.63, D(G(z)): 0.40\n",
            "Epoch [448/500], d_loss: 0.9655, g_loss: 1.3691, D(x): 0.67, D(G(z)): 0.33\n",
            "Epoch [449/500], d_loss: 0.9102, g_loss: 1.5200, D(x): 0.66, D(G(z)): 0.30\n",
            "Epoch [450/500], d_loss: 0.7754, g_loss: 1.3668, D(x): 0.76, D(G(z)): 0.31\n",
            "Epoch [451/500], d_loss: 0.8760, g_loss: 1.5110, D(x): 0.74, D(G(z)): 0.34\n",
            "Epoch [452/500], d_loss: 0.7922, g_loss: 1.5978, D(x): 0.73, D(G(z)): 0.28\n",
            "Epoch [453/500], d_loss: 1.1719, g_loss: 1.1866, D(x): 0.65, D(G(z)): 0.41\n",
            "Epoch [454/500], d_loss: 1.0084, g_loss: 1.4026, D(x): 0.64, D(G(z)): 0.33\n",
            "Epoch [455/500], d_loss: 0.8251, g_loss: 1.4695, D(x): 0.74, D(G(z)): 0.32\n",
            "Epoch [456/500], d_loss: 0.8424, g_loss: 1.5418, D(x): 0.68, D(G(z)): 0.28\n",
            "Epoch [457/500], d_loss: 0.9265, g_loss: 1.5154, D(x): 0.65, D(G(z)): 0.29\n",
            "Epoch [458/500], d_loss: 1.1515, g_loss: 1.3637, D(x): 0.64, D(G(z)): 0.37\n",
            "Epoch [459/500], d_loss: 1.1148, g_loss: 1.4785, D(x): 0.61, D(G(z)): 0.33\n",
            "Epoch [460/500], d_loss: 1.0559, g_loss: 1.3562, D(x): 0.60, D(G(z)): 0.31\n",
            "Epoch [461/500], d_loss: 1.0965, g_loss: 1.5695, D(x): 0.60, D(G(z)): 0.28\n",
            "Epoch [462/500], d_loss: 1.1728, g_loss: 1.2747, D(x): 0.61, D(G(z)): 0.37\n",
            "Epoch [463/500], d_loss: 0.9478, g_loss: 1.5079, D(x): 0.65, D(G(z)): 0.30\n",
            "Epoch [464/500], d_loss: 0.8896, g_loss: 1.5084, D(x): 0.68, D(G(z)): 0.27\n",
            "Epoch [465/500], d_loss: 1.0760, g_loss: 1.2675, D(x): 0.67, D(G(z)): 0.35\n",
            "Epoch [466/500], d_loss: 0.9124, g_loss: 1.5993, D(x): 0.67, D(G(z)): 0.28\n",
            "Epoch [467/500], d_loss: 0.9126, g_loss: 1.3426, D(x): 0.69, D(G(z)): 0.33\n",
            "Epoch [468/500], d_loss: 0.8882, g_loss: 1.5224, D(x): 0.69, D(G(z)): 0.31\n",
            "Epoch [469/500], d_loss: 1.0860, g_loss: 1.3800, D(x): 0.65, D(G(z)): 0.36\n",
            "Epoch [470/500], d_loss: 1.0915, g_loss: 1.2466, D(x): 0.64, D(G(z)): 0.36\n",
            "Epoch [471/500], d_loss: 0.9017, g_loss: 1.4093, D(x): 0.70, D(G(z)): 0.33\n",
            "Epoch [472/500], d_loss: 1.2572, g_loss: 1.3736, D(x): 0.59, D(G(z)): 0.35\n",
            "Epoch [473/500], d_loss: 0.9887, g_loss: 1.4062, D(x): 0.66, D(G(z)): 0.32\n",
            "Epoch [474/500], d_loss: 1.1646, g_loss: 1.1997, D(x): 0.62, D(G(z)): 0.38\n",
            "Epoch [475/500], d_loss: 1.2547, g_loss: 0.9801, D(x): 0.62, D(G(z)): 0.42\n",
            "Epoch [476/500], d_loss: 1.3151, g_loss: 1.1921, D(x): 0.61, D(G(z)): 0.42\n",
            "Epoch [477/500], d_loss: 1.2557, g_loss: 1.1401, D(x): 0.66, D(G(z)): 0.43\n",
            "Epoch [478/500], d_loss: 0.9812, g_loss: 1.3207, D(x): 0.69, D(G(z)): 0.35\n",
            "Epoch [479/500], d_loss: 0.7265, g_loss: 1.7781, D(x): 0.77, D(G(z)): 0.28\n",
            "Epoch [480/500], d_loss: 1.0450, g_loss: 1.2761, D(x): 0.64, D(G(z)): 0.35\n",
            "Epoch [481/500], d_loss: 1.4112, g_loss: 1.0636, D(x): 0.59, D(G(z)): 0.42\n",
            "Epoch [482/500], d_loss: 0.8785, g_loss: 1.3778, D(x): 0.72, D(G(z)): 0.33\n",
            "Epoch [483/500], d_loss: 1.1383, g_loss: 1.2551, D(x): 0.64, D(G(z)): 0.35\n",
            "Epoch [484/500], d_loss: 0.8593, g_loss: 1.5366, D(x): 0.71, D(G(z)): 0.31\n",
            "Epoch [485/500], d_loss: 1.1540, g_loss: 1.2874, D(x): 0.65, D(G(z)): 0.37\n",
            "Epoch [486/500], d_loss: 1.1305, g_loss: 1.3358, D(x): 0.63, D(G(z)): 0.36\n",
            "Epoch [487/500], d_loss: 0.9373, g_loss: 1.4382, D(x): 0.69, D(G(z)): 0.33\n",
            "Epoch [488/500], d_loss: 1.0488, g_loss: 1.3249, D(x): 0.64, D(G(z)): 0.34\n",
            "Epoch [489/500], d_loss: 0.7087, g_loss: 1.6248, D(x): 0.76, D(G(z)): 0.28\n",
            "Epoch [490/500], d_loss: 1.2077, g_loss: 1.4341, D(x): 0.59, D(G(z)): 0.33\n",
            "Epoch [491/500], d_loss: 0.9164, g_loss: 1.6107, D(x): 0.67, D(G(z)): 0.29\n",
            "Epoch [492/500], d_loss: 0.8652, g_loss: 1.4407, D(x): 0.69, D(G(z)): 0.29\n",
            "Epoch [493/500], d_loss: 1.1224, g_loss: 1.0566, D(x): 0.68, D(G(z)): 0.43\n",
            "Epoch [494/500], d_loss: 0.9426, g_loss: 1.4595, D(x): 0.64, D(G(z)): 0.29\n",
            "Epoch [495/500], d_loss: 1.0494, g_loss: 1.5294, D(x): 0.61, D(G(z)): 0.29\n",
            "Epoch [496/500], d_loss: 0.8468, g_loss: 1.6691, D(x): 0.71, D(G(z)): 0.29\n",
            "Epoch [497/500], d_loss: 0.9260, g_loss: 1.2971, D(x): 0.71, D(G(z)): 0.36\n",
            "Epoch [498/500], d_loss: 0.8558, g_loss: 1.5037, D(x): 0.69, D(G(z)): 0.29\n",
            "Epoch [499/500], d_loss: 0.7486, g_loss: 1.6474, D(x): 0.73, D(G(z)): 0.27\n"
          ],
          "name": "stdout"
        }
      ]
    },
    {
      "cell_type": "markdown",
      "metadata": {
        "id": "F8HT8_-mo89J"
      },
      "source": [
        "학습이 끝난 생성자의 결과물을 한번 확인해 보겠습니다."
      ]
    },
    {
      "cell_type": "code",
      "metadata": {
        "colab": {
          "base_uri": "https://localhost:8080/",
          "height": 1000
        },
        "id": "2FRN-ggMo89J",
        "outputId": "d60e8ec9-aed8-4e4c-b927-b8cc742312da"
      },
      "source": [
        "z = torch.randn(BATCH_SIZE, 64).to(DEVICE)\n",
        "fake_images = G(z)\n",
        "for i in range(10):\n",
        "    fake_images_img = np.reshape(fake_images.data.cpu().numpy()[i],(28, 28))\n",
        "    plt.imshow(fake_images_img, cmap = 'gray')\n",
        "    plt.show()"
      ],
      "execution_count": 8,
      "outputs": [
        {
          "output_type": "display_data",
          "data": {
            "image/png": "[encoded data removed]",
            "text/plain": [
              "<Figure size 432x288 with 1 Axes>"
            ]
          },
          "metadata": {
            "tags": [],
            "needs_background": "light"
          }
        },
        {
          "output_type": "display_data",
          "data": {
            "image/png": "[encoded data removed]",
            "text/plain": [
              "<Figure size 432x288 with 1 Axes>"
            ]
          },
          "metadata": {
            "tags": [],
            "needs_background": "light"
          }
        },
        {
          "output_type": "display_data",
          "data": {
            "image/png": "[encoded data removed]",
            "text/plain": [
              "<Figure size 432x288 with 1 Axes>"
            ]
          },
          "metadata": {
            "tags": [],
            "needs_background": "light"
          }
        },
        {
          "output_type": "display_data",
          "data": {
            "image/png": "[encoded data removed]",
            "text/plain": [
              "<Figure size 432x288 with 1 Axes>"
            ]
          },
          "metadata": {
            "tags": [],
            "needs_background": "light"
          }
        },
        {
          "output_type": "display_data",
          "data": {
            "image/png": "[encoded data removed]",
            "text/plain": [
              "<Figure size 432x288 with 1 Axes>"
            ]
          },
          "metadata": {
            "tags": [],
            "needs_background": "light"
          }
        },
        {
          "output_type": "display_data",
          "data": {
            "image/png": "[encoded data removed]",
            "text/plain": [
              "<Figure size 432x288 with 1 Axes>"
            ]
          },
          "metadata": {
            "tags": [],
            "needs_background": "light"
          }
        },
        {
          "output_type": "display_data",
          "data": {
            "image/png": "[encoded data removed]",
            "text/plain": [
              "<Figure size 432x288 with 1 Axes>"
            ]
          },
          "metadata": {
            "tags": [],
            "needs_background": "light"
          }
        },
        {
          "output_type": "display_data",
          "data": {
            "image/png": "[encoded data removed]",
            "text/plain": [
              "<Figure size 432x288 with 1 Axes>"
            ]
          },
          "metadata": {
            "tags": [],
            "needs_background": "light"
          }
        },
        {
          "output_type": "display_data",
          "data": {
            "image/png": "[encoded data removed]",
            "text/plain": [
              "<Figure size 432x288 with 1 Axes>"
            ]
          },
          "metadata": {
            "tags": [],
            "needs_background": "light"
          }
        },
        {
          "output_type": "display_data",
          "data": {
            "image/png": "[encoded data removed]",
            "text/plain": [
              "<Figure size 432x288 with 1 Axes>"
            ]
          },
          "metadata": {
            "tags": [],
            "needs_background": "light"
          }
        }
      ]
    }
  ]
}